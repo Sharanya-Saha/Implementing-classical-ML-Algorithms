{
 "cells": [
  {
   "cell_type": "markdown",
   "id": "983a1bf1",
   "metadata": {},
   "source": [
    "# Assignment 2 \n",
    "*by Sharanya Saha, 2111056*\n",
    "### <center> Answer 1 <center>"
   ]
  },
  {
   "cell_type": "code",
   "execution_count": 1,
   "id": "8c736052",
   "metadata": {},
   "outputs": [],
   "source": [
    "#importing the required libraries\n",
    "import numpy as np\n",
    "import matplotlib.pyplot as plt\n",
    "import time"
   ]
  },
  {
   "cell_type": "markdown",
   "id": "643ced99",
   "metadata": {},
   "source": [
    "### Implementation of gradient descent\n",
    "The optima obtained by gradient descent algorithm might be a local or a global optima. It depends upon the initialization point and the learning rate.<br>\n",
    "Hence, it is important to select a good initialization point and learning rate."
   ]
  },
  {
   "cell_type": "code",
   "execution_count": 2,
   "id": "cbae72d3",
   "metadata": {},
   "outputs": [],
   "source": [
    "def gradient_descent(gradient,init_,learn_rate, n_iter=100, tol=1e-06):\n",
    "    '''Returns the value of x at which the function attains a minima'''   \n",
    "    x = init_\n",
    "    for _ in range(n_iter):\n",
    "        delta = -learn_rate * gradient(x)\n",
    "        if np.all(np.abs(delta) <= tol):\n",
    "            print(\"Breaks at iteration number:\",_)\n",
    "            break\n",
    "        x += delta\n",
    "    return round(x*1000)/1000"
   ]
  },
  {
   "cell_type": "markdown",
   "id": "ea45cf7f",
   "metadata": {},
   "source": [
    "#### Function 1:\n",
    "$f(x) = x^2 + 3x +4 $\n",
    "<br>\n",
    "$ => f'(x)= 2x+3 $\n",
    "<br>\n",
    "Therefore, the gradient is given by 2x+3"
   ]
  },
  {
   "cell_type": "code",
   "execution_count": 3,
   "id": "57f07817",
   "metadata": {},
   "outputs": [],
   "source": [
    "#Returns the value of y for a given value of x\n",
    "def f1y(x) :\n",
    "    return x**2 + 3*x +4"
   ]
  },
  {
   "cell_type": "code",
   "execution_count": 4,
   "id": "4795d95d",
   "metadata": {},
   "outputs": [
    {
     "name": "stdout",
     "output_type": "stream",
     "text": [
      "Breaks at iteration number: 63\n"
     ]
    }
   ],
   "source": [
    "#min_x has the value of x at which minima is attained and min_y has the minimum value\n",
    "min_x=gradient_descent(gradient=lambda v: 2 * v + 3, init_=4.0, learn_rate=0.1)\n",
    "min_y=f1y(min_x)"
   ]
  },
  {
   "cell_type": "code",
   "execution_count": 5,
   "id": "42e08a56",
   "metadata": {},
   "outputs": [
    {
     "name": "stdout",
     "output_type": "stream",
     "text": [
      "The given function attains a minima at: -1.5 and the minimum value is: 1.75\n"
     ]
    }
   ],
   "source": [
    "print('The given function attains a minima at: ' +str(min_x) + ' and the minimum value is: ' +str(min_y))"
   ]
  },
  {
   "cell_type": "markdown",
   "id": "0a4f6ba4",
   "metadata": {},
   "source": [
    "#### Function 2:\n",
    "$f(x) = x^4 - 3x^2 + 2x $\n",
    "<br>\n",
    "$ => f'(x)= 4x^3 - 6x + 2 $\n",
    "<br>\n",
    "Therefore, the gradient is given by $4x^3 - 6x + 2$"
   ]
  },
  {
   "cell_type": "code",
   "execution_count": 6,
   "id": "f21e5aab",
   "metadata": {},
   "outputs": [],
   "source": [
    "#Returns the value of y for a given value of x\n",
    "def f2y(x) :\n",
    "    return x ** 4 - 3*(x**2) + 2*x"
   ]
  },
  {
   "cell_type": "code",
   "execution_count": 7,
   "id": "d1faf744",
   "metadata": {},
   "outputs": [
    {
     "name": "stdout",
     "output_type": "stream",
     "text": [
      "Breaks at iteration number: 60\n"
     ]
    }
   ],
   "source": [
    "#min_x has the value of x at which minima is attained and min_y has the minimum value\n",
    "min_x=gradient_descent(gradient=lambda v: 4*v*v*v - 6*v + 2, init_=-4.0, learn_rate=0.01,n_iter=100)\n",
    "min_y=f2y(min_x)"
   ]
  },
  {
   "cell_type": "code",
   "execution_count": 8,
   "id": "f00a8fd5",
   "metadata": {},
   "outputs": [
    {
     "name": "stdout",
     "output_type": "stream",
     "text": [
      "The given function attains a minima at: -1.366 and the minimum value is: -4.848076206064\n"
     ]
    }
   ],
   "source": [
    "print('The given function attains a minima at: ' +str(min_x) + ' and the minimum value is: ' +str(min_y))"
   ]
  },
  {
   "cell_type": "markdown",
   "id": "fcfd305e",
   "metadata": {},
   "source": [
    "The given function has more than 1 local optima, for such kind of a function a good selection of initialization point and learning rate is necessary, otherwise gradient descent may converge at some local minima.\n",
    "\n",
    "Below are a few examples of change in results with change in initialization point and learning rate.\n",
    "\n",
    "###### 1. initialization point = 4.0 and learning rate = 0.01"
   ]
  },
  {
   "cell_type": "code",
   "execution_count": 9,
   "id": "b145cd48",
   "metadata": {},
   "outputs": [
    {
     "name": "stdout",
     "output_type": "stream",
     "text": [
      "Breaks at iteration number: 157\n",
      "The given function attains a minima at: 1.0 and the minimum value is: 0.0\n"
     ]
    }
   ],
   "source": [
    "min_x=gradient_descent(gradient=lambda v: 4*v*v*v - 6*v + 2, init_= 4.0, learn_rate=0.01,n_iter=200)\n",
    "min_y=f2y(min_x)\n",
    "print('The given function attains a minima at: ' +str(min_x) + ' and the minimum value is: ' +str(min_y))"
   ]
  },
  {
   "cell_type": "markdown",
   "id": "7e42f593",
   "metadata": {},
   "source": [
    "The function has a local minima at 1.0. For the given initialization point and learning rate the function converges at a local minima.\n",
    "###### 2.initialization point = 4.0 and learning rate = 0.02"
   ]
  },
  {
   "cell_type": "code",
   "execution_count": 10,
   "id": "988f44e4",
   "metadata": {},
   "outputs": [
    {
     "name": "stdout",
     "output_type": "stream",
     "text": [
      "Breaks at iteration number: 36\n",
      "The given function attains a minima at: -1.366 and the minimum value is: -4.848076206064\n"
     ]
    }
   ],
   "source": [
    "min_x=gradient_descent(gradient=lambda v: 4*v*v*v - 6*v + 2, init_=4.0, learn_rate=0.02,n_iter=200)\n",
    "min_y=f2y(min_x)\n",
    "print('The given function attains a minima at: ' +str(min_x) + ' and the minimum value is: ' +str(min_y))"
   ]
  },
  {
   "cell_type": "markdown",
   "id": "18d2fca1",
   "metadata": {},
   "source": [
    "### A gradient function to calculate gradients for a linear regression y = ax + b\n",
    "\n",
    "<br>\n",
    "<center> Loss function(L) = $ \\frac{1}{n} \\sum_{i=1}^{n}(y_{i}-ax_{i}-b)^{2} $ </center> <br> <br>\n",
    "<center> $ \\frac {\\delta L}{\\delta a} = \\frac {-2}{n} \\sum_{i=1}^{n} x_{i}(y_{i} - ax_{i} - b) $ <br><br>\n",
    "<center>  $ \\frac {\\delta L}{\\delta b} = \\frac {-2}{n} \\sum_{i=1}^{n} (y_{i} - ax_{i} - b) $ </center>"
   ]
  },
  {
   "cell_type": "code",
   "execution_count": 11,
   "id": "94086867",
   "metadata": {},
   "outputs": [],
   "source": [
    "#Returns the gradient for the loss function\n",
    "def gradient(X,y,a,b) :\n",
    "    n=len(X) #n is the size of the dataset\n",
    "    Y_pred=a*X+b\n",
    "    grad_a = (-2/n)*sum(X*(y-Y_pred))\n",
    "    grad_b = (-2/n)*sum(y-Y_pred)\n",
    "    return grad_a, grad_b"
   ]
  },
  {
   "cell_type": "markdown",
   "id": "ed3bed6b",
   "metadata": {},
   "source": [
    "##### Implementation of gradient descent using the above gradient function:"
   ]
  },
  {
   "cell_type": "code",
   "execution_count": 12,
   "id": "67e8bbb0",
   "metadata": {},
   "outputs": [],
   "source": [
    "#The function calculates the mean squared loss for the dataset for a given value of a and b\n",
    "def cal_loss(X,y,a,b) :\n",
    "    Y_pred=a*X+b\n",
    "    return np.mean(np.square(y-Y_pred))"
   ]
  },
  {
   "cell_type": "code",
   "execution_count": 13,
   "id": "65403989",
   "metadata": {},
   "outputs": [],
   "source": [
    "def gradient_descent(X,y,learning_rate=0.01,iterations=500,tol=1e-06) :\n",
    "    loss=[]\n",
    "    n = len(y)\n",
    "    a=1\n",
    "    b=1\n",
    "    for i in range(iterations): \n",
    "        D_a, D_b = gradient(X,y,a,b)  #Returns the gradients\n",
    "        delta1=-learning_rate*D_a\n",
    "        delta2=-learning_rate*D_b\n",
    "        if np.all(np.abs(delta1) <= tol) and np.all(np.abs(delta2)<=tol) : #breaks if converged\n",
    "            print('Breaks at '+str(i)+'th iteration')\n",
    "            break\n",
    "        a = a + delta1  # Update a\n",
    "        b = b + delta2  # Update b\n",
    "        loss.append(cal_loss(X,y,a,b))\n",
    "    return a,b, loss"
   ]
  },
  {
   "cell_type": "markdown",
   "id": "5bc11272",
   "metadata": {},
   "source": [
    "###### Artificial data generator:"
   ]
  },
  {
   "cell_type": "code",
   "execution_count": 14,
   "id": "84f61729",
   "metadata": {},
   "outputs": [],
   "source": [
    "np.random.seed(0)\n",
    "X=2.5*np.random.randn(10000)+1.5\n",
    "res=1.5*np.random.randn(10000)\n",
    "y=2+0.3*X + res"
   ]
  },
  {
   "cell_type": "markdown",
   "id": "e8dd2630",
   "metadata": {},
   "source": [
    "###### Finding the optimal parameters relating X with y using gradient descent:"
   ]
  },
  {
   "cell_type": "code",
   "execution_count": 15,
   "id": "3b1c856d",
   "metadata": {},
   "outputs": [
    {
     "name": "stdout",
     "output_type": "stream",
     "text": [
      "Breaks at 670th iteration\n",
      "0.3 2.02\n"
     ]
    }
   ],
   "source": [
    "a,b,loss=gradient_descent(X,y,0.01,800)\n",
    "print(round(a,2),round(b,2))"
   ]
  },
  {
   "cell_type": "code",
   "execution_count": 16,
   "id": "c73bde06",
   "metadata": {},
   "outputs": [
    {
     "data": {
      "image/png": "[encoded data removed]",
      "text/plain": [
       "<Figure size 360x360 with 1 Axes>"
      ]
     },
     "metadata": {
      "needs_background": "light"
     },
     "output_type": "display_data"
    }
   ],
   "source": [
    "plt.figure(figsize=(5,5));\n",
    "plt.title('Loss v/s Iteration')\n",
    "plt.xlabel(\"Number of Iterations\")\n",
    "plt.ylabel(\"Loss\")\n",
    "plt.plot(loss);"
   ]
  },
  {
   "cell_type": "markdown",
   "id": "610d7ea0",
   "metadata": {},
   "source": [
    "The optimal values of a and b are 0.3 and 2.02, when learning rate = 0.01\n",
    "\n",
    "###### Below is a plot of the solution obtained:"
   ]
  },
  {
   "cell_type": "code",
   "execution_count": 17,
   "id": "3d94d51f",
   "metadata": {},
   "outputs": [
    {
     "data": {
      "image/png": "[encoded data removed]",
      "text/plain": [
       "<Figure size 432x288 with 1 Axes>"
      ]
     },
     "metadata": {
      "needs_background": "light"
     },
     "output_type": "display_data"
    }
   ],
   "source": [
    "plt.scatter(X, y)\n",
    "plt.title('Linear Regression')\n",
    "plt.xlabel('x')\n",
    "plt.ylabel('y')\n",
    "plt.plot(X, a*X + b,'r')\n",
    "plt.show()"
   ]
  },
  {
   "cell_type": "markdown",
   "id": "45eeca27",
   "metadata": {},
   "source": [
    "### Minibatch stochastic gradient descent:\n",
    "In Minibatch gradient descent a batch of a fixed number of training examples, say k which is less than the size of the actual dataset is used to update the parameters, in this case parameters are a and b. The batch is created by randomly sampling the data.<br>\n",
    "When batch size = size of the dataset, minibatch stochastic gradient descent becomes batch gradient descent.<br>\n",
    "When batch size = 1, minibatch stochastic gradient descent is same as stochastic gradient descent."
   ]
  },
  {
   "cell_type": "code",
   "execution_count": 18,
   "id": "a3a6dcae",
   "metadata": {},
   "outputs": [],
   "source": [
    "def mini_batch_gd(X,y,iterations=1000,batch_size=32,learning_rate=0.01,tol=1e-06) :\n",
    "    loss=[]\n",
    "    a=1\n",
    "    b=1\n",
    "    n=len(X)\n",
    "    for i in range(iterations) :\n",
    "        random_indices= np.random.permutation(10000)\n",
    "        X_tmp=X[random_indices] #shuffling the data randomly\n",
    "        Y_tmp=y[random_indices]  \n",
    "        k=0\n",
    "        if batch_size < n :\n",
    "            k=np.random.randint(0,n-batch_size)\n",
    "        X_batch=X_tmp[k:k+batch_size]   #Taking a random batch of size batch_size\n",
    "        Y_batch=Y_tmp[k:k+batch_size]\n",
    "        D_a, D_b = gradient(X_batch,Y_batch,a,b)  #Returns the gradient\n",
    "        delta1=-learning_rate*D_a\n",
    "        delta2=-learning_rate*D_b\n",
    "        if np.all(np.abs(delta1) <= tol) and np.all(np.abs(delta2)<=tol) :\n",
    "            print('Breaks at '+str(i)+'th iteration')\n",
    "            break\n",
    "        a = a + delta1  # Update a\n",
    "        b = b + delta2  # Update b\n",
    "        loss.append(cal_loss(X,y,a,b))\n",
    "    return round(a,2),round(b,2),loss\n",
    "        \n",
    "        "
   ]
  },
  {
   "cell_type": "markdown",
   "id": "3fe44666",
   "metadata": {},
   "source": [
    "**Performing Mini Batch gradient descent at learning rate 0.01 and batch size=64**"
   ]
  },
  {
   "cell_type": "code",
   "execution_count": 20,
   "id": "be97d3a3",
   "metadata": {},
   "outputs": [
    {
     "name": "stdout",
     "output_type": "stream",
     "text": [
      "0.31 2.01\n"
     ]
    }
   ],
   "source": [
    "a,b,loss_list=mini_batch_gd(X,y,1000,64,0.01) #Performed for 1000 iterations\n",
    "print(a,b)"
   ]
  },
  {
   "cell_type": "code",
   "execution_count": 21,
   "id": "223a9871",
   "metadata": {},
   "outputs": [
    {
     "data": {
      "image/png": "[encoded data removed]",
      "text/plain": [
       "<Figure size 504x360 with 1 Axes>"
      ]
     },
     "metadata": {
      "needs_background": "light"
     },
     "output_type": "display_data"
    }
   ],
   "source": [
    "plt.figure(figsize=(7,5))\n",
    "plt.title('Loss v/s Iteration for Minibatch')\n",
    "plt.xlabel(\"Iterations\")\n",
    "plt.ylabel(\"Loss\")\n",
    "plt.plot(loss_list)\n",
    "plt.show()"
   ]
  },
  {
   "cell_type": "markdown",
   "id": "f5265ef2",
   "metadata": {},
   "source": [
    "###### Below is a plot of the solution obtained using mini batch gradient descent:"
   ]
  },
  {
   "cell_type": "code",
   "execution_count": 22,
   "id": "9823f8dd",
   "metadata": {},
   "outputs": [
    {
     "data": {
      "image/png": "[encoded data removed]",
      "text/plain": [
       "<Figure size 432x288 with 1 Axes>"
      ]
     },
     "metadata": {
      "needs_background": "light"
     },
     "output_type": "display_data"
    }
   ],
   "source": [
    "#Plotting the solution obtained\n",
    "plt.scatter(X, y)\n",
    "plt.title('Linear Regression')\n",
    "plt.xlabel('x')\n",
    "plt.ylabel('y')\n",
    "plt.plot(X, a*X + b,'r')\n",
    "plt.show()"
   ]
  },
  {
   "cell_type": "markdown",
   "id": "3dde0228",
   "metadata": {},
   "source": [
    "### Comparison between Batch Gradient Descent, Mini Batch Gradient Descent and Stochastic Gradient Descent:"
   ]
  },
  {
   "cell_type": "code",
   "execution_count": 23,
   "id": "e0cfb93e",
   "metadata": {},
   "outputs": [
    {
     "name": "stdout",
     "output_type": "stream",
     "text": [
      "Breaks at 670th iteration\n",
      "0.3 2.02\n",
      "Time taken by gradient descent 0.7775099277496338\n"
     ]
    }
   ],
   "source": [
    "#Batch gradient descent\n",
    "t1=time.time()\n",
    "a_batch,b_batch,loss_list_batch=mini_batch_gd(X,y,10000,len(X),0.01)\n",
    "print(a_batch,b_batch)\n",
    "t2=time.time()\n",
    "print('Time taken by gradient descent',t2-t1)"
   ]
  },
  {
   "cell_type": "code",
   "execution_count": 24,
   "id": "064bea7e",
   "metadata": {},
   "outputs": [
    {
     "name": "stdout",
     "output_type": "stream",
     "text": [
      "Time taken by mini batch gradient descent 1.791419506072998\n"
     ]
    }
   ],
   "source": [
    "#Mini Batch gradient descent with batch size 64\n",
    "t1=time.time()\n",
    "a_mini_batch,b_mini_batch,loss_list_mini_batch= mini_batch_gd(X,y,10000,64,0.01)\n",
    "t2=time.time()\n",
    "print('Time taken by mini batch gradient descent',t2-t1)"
   ]
  },
  {
   "cell_type": "code",
   "execution_count": 25,
   "id": "34d249d6",
   "metadata": {},
   "outputs": [
    {
     "name": "stdout",
     "output_type": "stream",
     "text": [
      "Time taken by stochastic batch gradient descent 1.732555627822876\n"
     ]
    }
   ],
   "source": [
    "#Stochastic Gradient Descent\n",
    "t1=time.time()\n",
    "a_sgd,b_sgd,loss_list_sgd=mini_batch_gd(X,y,10000,1,0.01)\n",
    "t2=time.time()\n",
    "print('Time taken by stochastic batch gradient descent',t2-t1)"
   ]
  },
  {
   "cell_type": "markdown",
   "id": "e1181788",
   "metadata": {},
   "source": [
    "In all the above cases, Learning rate is 0.01. <br>\n",
    "But taking the same learning rate for all three types of Gradient descent is not very practical, as it doesnot always converge for the same learning rate.\n",
    "\n",
    "Also, Batch gradient descent directly converges to the global optima, where as SGD might converge to some local optima depending upon the learning rate. The updates made on parameters are noisy for SGD (logically, should work better with a smaller learning rate). So, it is important to find an optimal learning rate for SGD for which the convergence is faster and the loss is minimum."
   ]
  },
  {
   "cell_type": "markdown",
   "id": "75d792ef",
   "metadata": {},
   "source": [
    "###### Finding the best learning rate for stochastic gradient descent :"
   ]
  },
  {
   "cell_type": "code",
   "execution_count": 26,
   "id": "2448bcbb",
   "metadata": {},
   "outputs": [
    {
     "name": "stdout",
     "output_type": "stream",
     "text": [
      "0.18 1.95\n",
      "0.14 2.07\n",
      "0.29 2.23\n",
      "Breaks at 3137th iteration\n",
      "0.29 2.05\n",
      "0.32 1.98\n",
      "Breaks at 57th iteration\n",
      "0.95 1.0\n"
     ]
    }
   ],
   "source": [
    "learning_rates=[0.01,0.009,0.005,0.001,0.0005,0.0001]\n",
    "loss_sgd=[]\n",
    "time_sgd=[]\n",
    "for lr in learning_rates :\n",
    "    t1=time.time()\n",
    "    a,b,loss=mini_batch_gd(X,y,5000,1,lr)\n",
    "    print(a,b)\n",
    "    t2=time.time()\n",
    "    loss_sgd.append(loss[-1])\n",
    "    time_sgd.append(t2-t1)    "
   ]
  },
  {
   "cell_type": "code",
   "execution_count": 27,
   "id": "c930d38f",
   "metadata": {},
   "outputs": [
    {
     "data": {
      "image/png": "[encoded data removed]",
      "text/plain": [
       "<Figure size 720x360 with 1 Axes>"
      ]
     },
     "metadata": {
      "needs_background": "light"
     },
     "output_type": "display_data"
    }
   ],
   "source": [
    "plt.figure(figsize=(10,5))\n",
    "plt.title('Time taken v/s Learning rate')\n",
    "plt.xlabel(\"Learning Rate\")\n",
    "plt.ylabel(\"Time taken for convergence\")\n",
    "plt.xticks(np.arange(len(learning_rates)),labels=learning_rates)\n",
    "plt.plot(time_sgd)\n",
    "plt.show()"
   ]
  },
  {
   "cell_type": "code",
   "execution_count": 28,
   "id": "be1f72d1",
   "metadata": {},
   "outputs": [
    {
     "data": {
      "image/png": "[encoded data removed]",
      "text/plain": [
       "<Figure size 720x360 with 1 Axes>"
      ]
     },
     "metadata": {
      "needs_background": "light"
     },
     "output_type": "display_data"
    }
   ],
   "source": [
    "plt.figure(figsize=(10,5))\n",
    "plt.title('Loss v/s Learning rate')\n",
    "plt.xlabel(\"Learning Rate\")\n",
    "plt.ylabel(\"Loss\")\n",
    "plt.xticks(np.arange(len(learning_rates)),labels=learning_rates)\n",
    "plt.plot(loss_sgd)\n",
    "plt.show()"
   ]
  },
  {
   "cell_type": "markdown",
   "id": "a1013d67",
   "metadata": {},
   "source": [
    "From the above two graphs it can be said that, learning rate = 0.001 works the best for stochastic gradient descent, considering both loss time taken to converge."
   ]
  },
  {
   "cell_type": "markdown",
   "id": "2d694323",
   "metadata": {},
   "source": [
    "###### Performing SGD for learning rate = 0.001:"
   ]
  },
  {
   "cell_type": "code",
   "execution_count": 29,
   "id": "6dc0eb08",
   "metadata": {},
   "outputs": [
    {
     "name": "stdout",
     "output_type": "stream",
     "text": [
      "Breaks at 6509th iteration\n",
      "0.35 2.06\n",
      "Time taken to converge 1.129509449005127\n"
     ]
    }
   ],
   "source": [
    "t1=time.time()\n",
    "a,b,loss_sgd=mini_batch_gd(X,y,10000,1,0.001)\n",
    "print(a,b)\n",
    "t2=time.time()\n",
    "print('Time taken to converge '+str(t2-t1))"
   ]
  },
  {
   "cell_type": "markdown",
   "id": "2dab775d",
   "metadata": {},
   "source": [
    "###### Performing Batch gradient descent for learning rate = 0.001:"
   ]
  },
  {
   "cell_type": "code",
   "execution_count": 30,
   "id": "6a81ada3",
   "metadata": {},
   "outputs": [
    {
     "name": "stdout",
     "output_type": "stream",
     "text": [
      "Breaks at 5138th iteration\n",
      "0.3 2.02\n",
      "Time taken to converge 5.950348854064941\n"
     ]
    }
   ],
   "source": [
    "t1=time.time()\n",
    "a,b,loss_gd=mini_batch_gd(X,y,10000,len(X),0.001)\n",
    "print(a,b)\n",
    "t2=time.time()\n",
    "print('Time taken to converge '+str(t2-t1))"
   ]
  },
  {
   "cell_type": "markdown",
   "id": "6b141497",
   "metadata": {},
   "source": [
    "###### Performing Mini Batch gradient descent for learning rate 0.001 and batch size 128 :"
   ]
  },
  {
   "cell_type": "code",
   "execution_count": 31,
   "id": "5408b2ab",
   "metadata": {},
   "outputs": [
    {
     "name": "stdout",
     "output_type": "stream",
     "text": [
      "0.29 2.03\n",
      "Time taken to converge 1.7968075275421143\n"
     ]
    }
   ],
   "source": [
    "t1=time.time()\n",
    "a,b,loss_mgd=mini_batch_gd(X,y,10000,64,0.001)\n",
    "print(a,b)\n",
    "t2=time.time()\n",
    "print('Time taken'+str(t2-t1))"
   ]
  },
  {
   "cell_type": "code",
   "execution_count": 32,
   "id": "bc573fae",
   "metadata": {},
   "outputs": [
    {
     "data": {
      "image/png": "[encoded data removed]",
      "text/plain": [
       "<Figure size 1080x360 with 1 Axes>"
      ]
     },
     "metadata": {
      "needs_background": "light"
     },
     "output_type": "display_data"
    }
   ],
   "source": [
    "plt.figure(figsize=(15,5))\n",
    "plt.title('Loss v/s Iterations')\n",
    "plt.xlabel(\"Iteration\")\n",
    "plt.ylabel(\"loss\")\n",
    "plt.xlim([1,3000])\n",
    "plt.plot(loss_gd,color='r',label='Batch GD')\n",
    "plt.plot(loss_mgd,color='b',label='Mini Batch GD')\n",
    "plt.plot(loss_sgd,color='g',label='Stochastic GD')\n",
    "plt.legend()\n",
    "plt.show()"
   ]
  },
  {
   "cell_type": "markdown",
   "id": "194160ca",
   "metadata": {},
   "source": [
    "###### Conclusion:\n",
    "At learning rate = 0.001, SGD converges the fastest, followed by Mini batch gradient descent(doesn't really converge in 10K iterations) and batch gradient descent is the slowest. Not everything comes for free though, with the decrease in time for SGD the loss increases when compared to Batch Gradient Descent. Batch gradient descent gives more accurate answers. <br>\n",
    "\n",
    "To sum it up, there is a trade-off between the time required and accuracy. SGD with a suitable learning rate can give faster solutions with high variance, whereas Batch gradient Descent gives smoother solutions with a bit of extra time. <br>\n",
    "\n",
    "**On the given dataset**, as it is not very huge, Batch gradient descent can find accurate answers with little extra time. SGD can find good solutions at a suitable learning rate in lesser time, but again it depends on us and the constraints we have. If there are time constraints and loss doesn't matter that much SGD is definitely a good option. \n"
   ]
  },
  {
   "cell_type": "markdown",
   "id": "d618cd8b",
   "metadata": {},
   "source": [
    "### Finding the optimal batch size :\n",
    "Learning rate = 0.001"
   ]
  },
  {
   "cell_type": "code",
   "execution_count": 33,
   "id": "c31e26f4",
   "metadata": {},
   "outputs": [
    {
     "name": "stdout",
     "output_type": "stream",
     "text": [
      "Batch size:  1\n",
      "Breaks at 4874th iteration\n",
      "Batch size:  2\n",
      "Batch size:  4\n",
      "Batch size:  8\n",
      "Batch size:  16\n",
      "Batch size:  32\n",
      "Batch size:  64\n",
      "Batch size:  128\n",
      "Batch size:  256\n",
      "Batch size:  512\n",
      "Batch size:  1024\n",
      "Batch size:  2048\n",
      "Batch size:  4096\n",
      "Batch size:  8192\n",
      "Batch size:  16384\n"
     ]
    }
   ],
   "source": [
    "i=1\n",
    "loss=[]\n",
    "time_req=[]\n",
    "batch_size=[]\n",
    "while i < 2**15 :\n",
    "    print('Batch size: ',i)\n",
    "    t1=time.time()\n",
    "    a,b,loss_batch= mini_batch_gd(X,y,5000,i,0.001)\n",
    "    t2=time.time()\n",
    "    time_req.append(t2-t1)\n",
    "    loss.append(loss_batch[-1])\n",
    "    if i >= len(X) :\n",
    "        batch_size.append(len(X))\n",
    "    else :\n",
    "        batch_size.append(i)\n",
    "    i=i*2\n"
   ]
  },
  {
   "cell_type": "code",
   "execution_count": 34,
   "id": "37a16700",
   "metadata": {},
   "outputs": [
    {
     "data": {
      "image/png": "[encoded data removed]",
      "text/plain": [
       "<Figure size 720x360 with 1 Axes>"
      ]
     },
     "metadata": {
      "needs_background": "light"
     },
     "output_type": "display_data"
    }
   ],
   "source": [
    "plt.figure(figsize=(10,5))\n",
    "plt.title('Loss v/s Batch size')\n",
    "plt.xlabel(\"Batch size\")\n",
    "plt.ylabel(\"Loss\")\n",
    "plt.xticks(np.arange(len(batch_size)),labels=batch_size)\n",
    "plt.plot(loss,color='g')\n",
    "plt.show()"
   ]
  },
  {
   "cell_type": "code",
   "execution_count": 35,
   "id": "ae7e52a3",
   "metadata": {},
   "outputs": [
    {
     "data": {
      "image/png": "[encoded data removed]",
      "text/plain": [
       "<Figure size 720x360 with 1 Axes>"
      ]
     },
     "metadata": {
      "needs_background": "light"
     },
     "output_type": "display_data"
    }
   ],
   "source": [
    "plt.figure(figsize=(10,5))\n",
    "plt.title('Time Taken v/s Batch size')\n",
    "plt.xlabel(\"Batch size\")\n",
    "plt.ylabel(\"Time\")\n",
    "plt.xticks(np.arange(len(batch_size)),labels=batch_size)\n",
    "plt.plot(time_req,color='g')\n",
    "plt.show()"
   ]
  },
  {
   "cell_type": "markdown",
   "id": "738e599f",
   "metadata": {},
   "source": [
    "##### Conclusion:\n",
    "At a particular learning rate different batch sizes take different amount of time to converge. For, best results, both learning rate and batch size should be varied.\n",
    "However, considering both the loss curve and the time curve, batch sizes in the range of 32 to 128 works the best at learning rate 0.001 for 5000 iterations <br><br>"
   ]
  },
  {
   "cell_type": "markdown",
   "id": "d99cec16",
   "metadata": {},
   "source": [
    "###### Performing Mini batch Gradient descent for batch size = 64 at learning rate 0.001"
   ]
  },
  {
   "cell_type": "code",
   "execution_count": 36,
   "id": "e73f7adb",
   "metadata": {},
   "outputs": [
    {
     "name": "stdout",
     "output_type": "stream",
     "text": [
      "0.3 2.02\n"
     ]
    }
   ],
   "source": [
    "a,b,loss=mini_batch_gd(X,y,5000,64,0.001)\n",
    "print(a,b)"
   ]
  },
  {
   "cell_type": "code",
   "execution_count": 37,
   "id": "c3047d55",
   "metadata": {},
   "outputs": [
    {
     "data": {
      "image/png": "[encoded data removed]",
      "text/plain": [
       "<Figure size 432x288 with 1 Axes>"
      ]
     },
     "metadata": {
      "needs_background": "light"
     },
     "output_type": "display_data"
    }
   ],
   "source": [
    "#Plotting the solution obtained\n",
    "plt.scatter(X, y)\n",
    "plt.title('Linear Regression')\n",
    "plt.xlabel('x')\n",
    "plt.ylabel('y')\n",
    "plt.plot(X, a*X + b,'r')\n",
    "plt.show()"
   ]
  },
  {
   "cell_type": "markdown",
   "id": "bcff35fd",
   "metadata": {},
   "source": [
    "### <center> Answer 2 <center>"
   ]
  },
  {
   "cell_type": "markdown",
   "id": "b5cf388b",
   "metadata": {},
   "source": [
    "###### i) Probability that someone has both cold and fever:"
   ]
  },
  {
   "cell_type": "markdown",
   "id": "d7b50b70",
   "metadata": {},
   "source": [
    "$ P(cold) = \\ 0.02 $ <br> <br>\n",
    "$ P(\\overline {cold}) = \\ 0.98 $ <br> <br>\n",
    "$ P({fever}|{cold}) = \\ 0.307 $ <br> <br>\n",
    "$ P({cold}\\cap{fever}) = P({fever}|{cold}) * P(cold) $ <br> <br>\n",
    "$ \\implies P({cold}\\cap{fever}) = 0.02 * 0.307 $ <br> <br>\n",
    "$ \\implies P({cold}\\cap{fever}) = 0.00614 \\ (Answer) $ <br><br> \n",
    "*The proabability that someone has both cold and fever is 0.00614*"
   ]
  },
  {
   "cell_type": "markdown",
   "id": "3a160ca2",
   "metadata": {},
   "source": [
    "###### ii) Probability that someone who has a cough has a cold."
   ]
  },
  {
   "cell_type": "markdown",
   "id": "b93aaebc",
   "metadata": {},
   "source": [
    "$ P(cold) = \\ 0.02 $ <br> <br>\n",
    "$ P(\\overline {cold}) = \\ 0.98 $ <br><br>\n",
    "$ P(smokes) = \\ 0.2 $ <br> <br>\n",
    "$ P(\\overline {smokes}) = 0.8 $ <br> <br>\n",
    "$ P({lung \\ disease}|{smokes}) = 0.1009 $ <br> <br>\n",
    "$ P({lung \\ disease}|{\\overline {smokes}}) = 0.001 $ <br> <br>\n",
    "$ \\therefore P(lung \\ disease) = P( {lung \\ disease}|{smokes})* P(smokes) + P({lung \\ disease}|{\\overline {smokes}})*P(\\overline {smokes}) $ <br> <br>\n",
    "$ \\implies P(lung \\ disease) = \\ 0.1009*0.2 + \\ 0.001*0.8 $ <br> <br>\n",
    "$ \\implies P(lung \\ disease) = \\ 0.02098 $ <br> <br>\n",
    "$ \\therefore P(\\overline {lung \\ disease}) = 1 - P(lung \\ disease) $ <br> <br>\n",
    "$ \\implies P(\\overline {lung \\ disease}) = 1 - \\ 0.02098 $ <br> <br>\n",
    "$ \\implies P(\\overline {lung \\ disease}) = \\ 0.97902 $ <br> <br>"
   ]
  },
  {
   "cell_type": "markdown",
   "id": "444be254",
   "metadata": {},
   "source": [
    "Also, cold and lung disease are independent events. <br> <br>\n",
    "$ P(cough) = \\ P({cough}|{cold,lung \\ disease}) *P(cold)*P(lung \\ disease) + P({cough}|{\\overline {cold},lung \\ disease})*P(\\overline {cold})*P(lung \\ disease)$ <br>$ \\ + P({cough}|{cold,\\overline {lung \\ disease}})*P(cold)*P(\\overline {lung \\ disease}) + P({cough}|{\\overline {cold},\\overline {lung \\ disease}})*P(\\overline {cold})*P(\\overline {lung \\ disease}) $ <br><br><br>\n",
    "$ \\implies P(cough) = 0.7525*0.02*0.02098 + 0.505*0.98*0.02098 + 0.505 * 0.02*0.97902 + 0.01 * 0.98*0.97902 $ <br> <br>\n",
    "$\\implies P(cough) = 0.03 $"
   ]
  },
  {
   "cell_type": "markdown",
   "id": "807e6ad1",
   "metadata": {},
   "source": [
    "From Baye's Theorem we know, <br><br>\n",
    "$ P({cold}|{cough}) = \\frac {P(cold \\cap cough)}{P(cough)} $ <br> <br>\n",
    "$ \\implies P({cold}|{cough}) = \\frac{ 0.7525∗0.02∗0.02098+0.505∗0.02∗0.97902}{0.03} $ (Rounding off to 4 decimal places) <br> <br>\n",
    "$ \\implies P({cold}|{cough}) = \\frac{0.0101}{0.03} $ <br> <br>\n",
    "$ \\implies P({cold}|{cough}) = 0.3367 \\ (Answer) $ "
   ]
  },
  {
   "cell_type": "markdown",
   "id": "c3434dd8",
   "metadata": {},
   "source": [
    "*The probability that someone who has a cough has a cold = 0.3367* "
   ]
  },
  {
   "cell_type": "markdown",
   "id": "0484e352",
   "metadata": {},
   "source": [
    "### <center> Answer 3 \n",
    "**MLE for the parameters of a k-sided multinomial distribution**"
   ]
  },
  {
   "cell_type": "markdown",
   "id": "856b6dab",
   "metadata": {},
   "source": [
    "Let $ X_{1}, X_{2},...,X_{k}$ be k boxes, and let $ x_{1},x_{2},...x_{k} $ be the number of balls that fall into each of the boxes. Let, the total number of balls be n and the probabilty of a ball falling into the $ i^{th} $ box be $p_{i}$ .<br> <br>\n",
    "<center>$ \\therefore \\sum_{i=1}^{k} x_{i} = n $ and  $\\sum_{i=1}^{k} p_{i} = 1$ "
   ]
  },
  {
   "cell_type": "markdown",
   "id": "fceba183",
   "metadata": {},
   "source": [
    "Therefore, the joint probability of $ x_{1},x_{2},....,x_{n} $ has the form : <br><br>\n",
    "$ f(x_{1},x_{2},......,x_{k} | p_{1},p_{2},....,p_{k}) = \\frac {n!}{x_{1}! x_{2}! .....x_{k}!}p_{1}^{{x}_{1}} p_{2}^{{x}_{2}}p_{3}^{{x}_{3}}.....p_{k}^{{x}_{k}}$ <br><br>"
   ]
  },
  {
   "cell_type": "markdown",
   "id": "9d500b35",
   "metadata": {},
   "source": [
    "Therefore, log likelihood of f will be:<br>\n",
    "$ l(p_{1},p_{2},p_{3},.....,p_{k}) = log(f) = logn! - \\sum_{i=1}^{k}logx_{i}! + \\sum_{i=1}^{k}x_{i}logp_{i} $"
   ]
  },
  {
   "cell_type": "markdown",
   "id": "b289a6cd",
   "metadata": {},
   "source": [
    "As, the above is a constrained optimization problem, it cannot be maximized directly.  Lagrange multiplier is used to take $ \\sum_{i=1}^{k} p_{i} = 1$ into consideration."
   ]
  },
  {
   "cell_type": "markdown",
   "id": "f10f1ab5",
   "metadata": {},
   "source": [
    "$ L(p_{1},p_{2},...,p_{k},\\lambda) \\ =  \\ l(p_{1},p_{2},...,p_{k}) \\ + \\ \\lambda(1 - \\sum_{i=1}^{k}p_{i} )$ , where $\\lambda$ is the lagrange multiplier."
   ]
  },
  {
   "cell_type": "markdown",
   "id": "6656edd4",
   "metadata": {},
   "source": [
    "For maximizing the above equation, we take partial derivatives of L with respect to $\\lambda$ and $p_{i}$ <br><br>\n",
    "$ \\frac {\\delta L(p_{i},\\lambda)}{\\delta p_{i}} = 0 $ <br> <br>\n",
    "$\\implies \\frac{x_{i}}{p_{i}} - \\lambda = 0$ ----- equation 1"
   ]
  },
  {
   "cell_type": "markdown",
   "id": "4eab2a42",
   "metadata": {},
   "source": [
    "$ \\frac {\\delta L(p_{i},\\lambda)}{\\delta \\lambda} = 0 $ <br> <br>\n",
    "$ \\implies 1 - \\sum_{i=1}^{k}p_{i} = 0 $ <br><br>\n",
    "$ \\implies \\sum_{i=1}^{k}p_{i} = 1 $ ----- equation 2\n",
    "\n",
    "<br><br>\n",
    "Taking summation in LHS and RHS of equation 1 for i = 1 to k we get :<br><br>\n",
    "$ \\frac{\\sum_{i=1}^{k} x_{i}}{\\sum_{i=1}^{k} p_{i}} = \\lambda $ <br><br>\n",
    "Substituting $ \\sum_{i=1}^{k} x_{i} = n $ in the above equation we get : <br><br>\n",
    "$ \\implies \\lambda = n $"
   ]
  },
  {
   "cell_type": "markdown",
   "id": "1920ee6e",
   "metadata": {},
   "source": [
    "Substituting $\\lambda$ in equation 1 we get :\n",
    "$\\hat p_{i} = \\frac {x_{i}}{n}$"
   ]
  },
  {
   "cell_type": "markdown",
   "id": "8f4a9d9f",
   "metadata": {},
   "source": [
    "Therefore, the probability distribution that maximizes the likelihood is <br>\n",
    "<center> p = ($ \\frac{x_{1}}{n},\\frac{x_{2}}{n},..\\frac{x_{k}}{n}$)"
   ]
  }
 ],
 "metadata": {
  "kernelspec": {
   "display_name": "Python 3 (ipykernel)",
   "language": "python",
   "name": "python3"
  },
  "language_info": {
   "codemirror_mode": {
    "name": "ipython",
    "version": 3
   },
   "file_extension": ".py",
   "mimetype": "text/x-python",
   "name": "python",
   "nbconvert_exporter": "python",
   "pygments_lexer": "ipython3",
   "version": "3.8.8"
  }
 },
 "nbformat": 4,
 "nbformat_minor": 5
}
