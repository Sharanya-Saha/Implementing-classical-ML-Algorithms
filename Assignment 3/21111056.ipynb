{
 "cells": [
  {
   "cell_type": "markdown",
   "id": "d4b350d7",
   "metadata": {},
   "source": [
    "# Assignment 3 \n",
    "*by Sharanya Saha, 2111056*\n",
    "<br> sharanya21@iitk.ac.in\n",
    "### <center> Answer 1 <center>"
   ]
  },
  {
   "cell_type": "code",
   "execution_count": 1,
   "id": "06adb98c",
   "metadata": {},
   "outputs": [],
   "source": [
    "#importing the required libraries\n",
    "import pandas as pd\n",
    "import numpy as np\n",
    "from random import randint\n",
    "import matplotlib.pyplot as plt"
   ]
  },
  {
   "cell_type": "markdown",
   "id": "b5b6332a",
   "metadata": {},
   "source": [
    "### The Perceptron Algorithm :\n",
    "Step 1: Initialize w = $ w^{(0)} $ , t=0, set $ \\eta_{t} $ = 1,  $ \\forall$ t <br>\n",
    "Step 2: Pick some ($x_{n}$,$y_{n}$) randomly <br>\n",
    "Step 3: If current w makes a mistake on ($x_{n}$,$y_{n}$) i.e. $y_{n} w^{(t)}x_{n} < 0 $ <br>\n",
    "         <center>              $ \\ \\ \\ w^{(t+1)} = w^{t} + y_{n}x_{n} $ <br>\n",
    " t = t+1 </center> <br>\n",
    "Step 4: If not converged, Go to step 2"
   ]
  },
  {
   "cell_type": "markdown",
   "id": "5a5213db",
   "metadata": {},
   "source": [
    "#### Implementation of the above algorithm  :\n",
    "1) $ \\eta_{t} $ is denoted by H in the code and has a default value of 1. <br>\n",
    "2) A function named check_convergence is implemented to check for convergence of the algorithm. The variable convergence helps to keep a track whether the weights are updated in consecutive iterations or not.\n",
    "\n",
    "###### Convergence of the algorithm:  \n",
    "The algorithm is assumed to be converged if it doesn't make any mistake for k consecutive iterations. The value of k has been taken as 80 of now (i.e. The algorithm converges it it doesn't make any mistake in 80 consecutive iterations). A suitable value of k will be determined later using cross-validation.\n"
   ]
  },
  {
   "cell_type": "code",
   "execution_count": 2,
   "id": "1fb6bb8d",
   "metadata": {},
   "outputs": [],
   "source": [
    "#The function is used to check whether the algorithm has converged or not\n",
    "def check_convergence(convergence,k) :\n",
    "    if convergence==k :\n",
    "        return 1\n",
    "    return 0"
   ]
  },
  {
   "cell_type": "code",
   "execution_count": 3,
   "id": "e6c17a18",
   "metadata": {},
   "outputs": [],
   "source": [
    "def stochaistic_subGD(X, Y,H=1,k=80,iterations=10000):\n",
    "    w_t = np.ones(4) #There are 4 features \n",
    "    convergence=0\n",
    "    for i in range(iterations):\n",
    "        n = randint(0, len(X)-1)\n",
    "        x_n, y_n = X[n], Y[n]\n",
    "        if y_n*np.dot(w_t,x_n) < 0 : #check if there is a mistake\n",
    "            w_t = w_t + H*y_n*x_n\n",
    "            convergence=0\n",
    "        else :\n",
    "            convergence=convergence+1\n",
    "        if check_convergence(convergence,k) :\n",
    "            #print('converged '+str(i)+'th iteration')\n",
    "            break        \n",
    "    return w_t"
   ]
  },
  {
   "cell_type": "markdown",
   "id": "1bb09c48",
   "metadata": {},
   "source": [
    "###  Importing and Preprocessing the dataset: \n",
    "**Dataset**: Banknote authentication Data Set *from UCI Machine learning repository*"
   ]
  },
  {
   "cell_type": "code",
   "execution_count": 4,
   "id": "8636761e",
   "metadata": {},
   "outputs": [],
   "source": [
    "#Reading the dataset\n",
    "df = pd.read_csv('data_banknote_authentication.txt', names=[\"variance\",\"skewness\",\"curtosis\",\"entropy\",\"class\"])"
   ]
  },
  {
   "cell_type": "code",
   "execution_count": 5,
   "id": "a520a778",
   "metadata": {},
   "outputs": [
    {
     "data": {
      "text/plain": [
       "(1372, 5)"
      ]
     },
     "execution_count": 5,
     "metadata": {},
     "output_type": "execute_result"
    }
   ],
   "source": [
    "# Dimensions of the dataset\n",
    "df.shape"
   ]
  },
  {
   "cell_type": "code",
   "execution_count": 6,
   "id": "2da7f6c8",
   "metadata": {},
   "outputs": [
    {
     "data": {
      "text/html": [
       "<div>\n",
       "<style scoped>\n",
       "    .dataframe tbody tr th:only-of-type {\n",
       "        vertical-align: middle;\n",
       "    }\n",
       "\n",
       "    .dataframe tbody tr th {\n",
       "        vertical-align: top;\n",
       "    }\n",
       "\n",
       "    .dataframe thead th {\n",
       "        text-align: right;\n",
       "    }\n",
       "</style>\n",
       "<table border=\"1\" class=\"dataframe\">\n",
       "  <thead>\n",
       "    <tr style=\"text-align: right;\">\n",
       "      <th></th>\n",
       "      <th>variance</th>\n",
       "      <th>skewness</th>\n",
       "      <th>curtosis</th>\n",
       "      <th>entropy</th>\n",
       "      <th>class</th>\n",
       "    </tr>\n",
       "  </thead>\n",
       "  <tbody>\n",
       "    <tr>\n",
       "      <th>0</th>\n",
       "      <td>3.62160</td>\n",
       "      <td>8.6661</td>\n",
       "      <td>-2.8073</td>\n",
       "      <td>-0.44699</td>\n",
       "      <td>0</td>\n",
       "    </tr>\n",
       "    <tr>\n",
       "      <th>1</th>\n",
       "      <td>4.54590</td>\n",
       "      <td>8.1674</td>\n",
       "      <td>-2.4586</td>\n",
       "      <td>-1.46210</td>\n",
       "      <td>0</td>\n",
       "    </tr>\n",
       "    <tr>\n",
       "      <th>2</th>\n",
       "      <td>3.86600</td>\n",
       "      <td>-2.6383</td>\n",
       "      <td>1.9242</td>\n",
       "      <td>0.10645</td>\n",
       "      <td>0</td>\n",
       "    </tr>\n",
       "    <tr>\n",
       "      <th>3</th>\n",
       "      <td>3.45660</td>\n",
       "      <td>9.5228</td>\n",
       "      <td>-4.0112</td>\n",
       "      <td>-3.59440</td>\n",
       "      <td>0</td>\n",
       "    </tr>\n",
       "    <tr>\n",
       "      <th>4</th>\n",
       "      <td>0.32924</td>\n",
       "      <td>-4.4552</td>\n",
       "      <td>4.5718</td>\n",
       "      <td>-0.98880</td>\n",
       "      <td>0</td>\n",
       "    </tr>\n",
       "  </tbody>\n",
       "</table>\n",
       "</div>"
      ],
      "text/plain": [
       "   variance  skewness  curtosis  entropy  class\n",
       "0   3.62160    8.6661   -2.8073 -0.44699      0\n",
       "1   4.54590    8.1674   -2.4586 -1.46210      0\n",
       "2   3.86600   -2.6383    1.9242  0.10645      0\n",
       "3   3.45660    9.5228   -4.0112 -3.59440      0\n",
       "4   0.32924   -4.4552    4.5718 -0.98880      0"
      ]
     },
     "execution_count": 6,
     "metadata": {},
     "output_type": "execute_result"
    }
   ],
   "source": [
    "df.head()"
   ]
  },
  {
   "cell_type": "code",
   "execution_count": 7,
   "id": "fa8bdeb3",
   "metadata": {},
   "outputs": [
    {
     "data": {
      "text/html": [
       "<div>\n",
       "<style scoped>\n",
       "    .dataframe tbody tr th:only-of-type {\n",
       "        vertical-align: middle;\n",
       "    }\n",
       "\n",
       "    .dataframe tbody tr th {\n",
       "        vertical-align: top;\n",
       "    }\n",
       "\n",
       "    .dataframe thead th {\n",
       "        text-align: right;\n",
       "    }\n",
       "</style>\n",
       "<table border=\"1\" class=\"dataframe\">\n",
       "  <thead>\n",
       "    <tr style=\"text-align: right;\">\n",
       "      <th></th>\n",
       "      <th>variance</th>\n",
       "      <th>skewness</th>\n",
       "      <th>curtosis</th>\n",
       "      <th>entropy</th>\n",
       "      <th>class</th>\n",
       "    </tr>\n",
       "  </thead>\n",
       "  <tbody>\n",
       "    <tr>\n",
       "      <th>count</th>\n",
       "      <td>1372.000000</td>\n",
       "      <td>1372.000000</td>\n",
       "      <td>1372.000000</td>\n",
       "      <td>1372.000000</td>\n",
       "      <td>1372.000000</td>\n",
       "    </tr>\n",
       "    <tr>\n",
       "      <th>mean</th>\n",
       "      <td>0.433735</td>\n",
       "      <td>1.922353</td>\n",
       "      <td>1.397627</td>\n",
       "      <td>-1.191657</td>\n",
       "      <td>0.444606</td>\n",
       "    </tr>\n",
       "    <tr>\n",
       "      <th>std</th>\n",
       "      <td>2.842763</td>\n",
       "      <td>5.869047</td>\n",
       "      <td>4.310030</td>\n",
       "      <td>2.101013</td>\n",
       "      <td>0.497103</td>\n",
       "    </tr>\n",
       "    <tr>\n",
       "      <th>min</th>\n",
       "      <td>-7.042100</td>\n",
       "      <td>-13.773100</td>\n",
       "      <td>-5.286100</td>\n",
       "      <td>-8.548200</td>\n",
       "      <td>0.000000</td>\n",
       "    </tr>\n",
       "    <tr>\n",
       "      <th>25%</th>\n",
       "      <td>-1.773000</td>\n",
       "      <td>-1.708200</td>\n",
       "      <td>-1.574975</td>\n",
       "      <td>-2.413450</td>\n",
       "      <td>0.000000</td>\n",
       "    </tr>\n",
       "    <tr>\n",
       "      <th>50%</th>\n",
       "      <td>0.496180</td>\n",
       "      <td>2.319650</td>\n",
       "      <td>0.616630</td>\n",
       "      <td>-0.586650</td>\n",
       "      <td>0.000000</td>\n",
       "    </tr>\n",
       "    <tr>\n",
       "      <th>75%</th>\n",
       "      <td>2.821475</td>\n",
       "      <td>6.814625</td>\n",
       "      <td>3.179250</td>\n",
       "      <td>0.394810</td>\n",
       "      <td>1.000000</td>\n",
       "    </tr>\n",
       "    <tr>\n",
       "      <th>max</th>\n",
       "      <td>6.824800</td>\n",
       "      <td>12.951600</td>\n",
       "      <td>17.927400</td>\n",
       "      <td>2.449500</td>\n",
       "      <td>1.000000</td>\n",
       "    </tr>\n",
       "  </tbody>\n",
       "</table>\n",
       "</div>"
      ],
      "text/plain": [
       "          variance     skewness     curtosis      entropy        class\n",
       "count  1372.000000  1372.000000  1372.000000  1372.000000  1372.000000\n",
       "mean      0.433735     1.922353     1.397627    -1.191657     0.444606\n",
       "std       2.842763     5.869047     4.310030     2.101013     0.497103\n",
       "min      -7.042100   -13.773100    -5.286100    -8.548200     0.000000\n",
       "25%      -1.773000    -1.708200    -1.574975    -2.413450     0.000000\n",
       "50%       0.496180     2.319650     0.616630    -0.586650     0.000000\n",
       "75%       2.821475     6.814625     3.179250     0.394810     1.000000\n",
       "max       6.824800    12.951600    17.927400     2.449500     1.000000"
      ]
     },
     "execution_count": 7,
     "metadata": {},
     "output_type": "execute_result"
    }
   ],
   "source": [
    "df.describe()"
   ]
  },
  {
   "cell_type": "code",
   "execution_count": 8,
   "id": "f23d4a4c",
   "metadata": {},
   "outputs": [
    {
     "data": {
      "text/plain": [
       "(1372, 5)"
      ]
     },
     "execution_count": 8,
     "metadata": {},
     "output_type": "execute_result"
    }
   ],
   "source": [
    "df.shape"
   ]
  },
  {
   "cell_type": "markdown",
   "id": "af26a6e1",
   "metadata": {},
   "source": [
    "Handling NULL values in the dataset:"
   ]
  },
  {
   "cell_type": "code",
   "execution_count": 9,
   "id": "84ef607a",
   "metadata": {},
   "outputs": [
    {
     "data": {
      "text/plain": [
       "variance    0\n",
       "skewness    0\n",
       "curtosis    0\n",
       "entropy     0\n",
       "class       0\n",
       "dtype: int64"
      ]
     },
     "execution_count": 9,
     "metadata": {},
     "output_type": "execute_result"
    }
   ],
   "source": [
    "#checking for NULL values is the dataset\n",
    "df.isnull().sum()"
   ]
  },
  {
   "cell_type": "markdown",
   "id": "64008082",
   "metadata": {},
   "source": [
    "The given dataset doesn't contain any NULL values"
   ]
  },
  {
   "cell_type": "code",
   "execution_count": 10,
   "id": "d806c26e",
   "metadata": {},
   "outputs": [
    {
     "data": {
      "text/plain": [
       "variance    float64\n",
       "skewness    float64\n",
       "curtosis    float64\n",
       "entropy     float64\n",
       "class         int64\n",
       "dtype: object"
      ]
     },
     "execution_count": 10,
     "metadata": {},
     "output_type": "execute_result"
    }
   ],
   "source": [
    "#Checking the data types of the columns\n",
    "df.dtypes"
   ]
  },
  {
   "cell_type": "code",
   "execution_count": 11,
   "id": "9e6071e1",
   "metadata": {},
   "outputs": [
    {
     "data": {
      "text/plain": [
       "(1348, 5)"
      ]
     },
     "execution_count": 11,
     "metadata": {},
     "output_type": "execute_result"
    }
   ],
   "source": [
    "#removing duplicates from the data\n",
    "df.drop_duplicates(subset=None,keep='first',inplace=True,ignore_index=True)\n",
    "df.shape"
   ]
  },
  {
   "cell_type": "markdown",
   "id": "d6c469a0",
   "metadata": {},
   "source": [
    "**Checking for anomalous data:**"
   ]
  },
  {
   "cell_type": "code",
   "execution_count": 12,
   "id": "439f05a4",
   "metadata": {},
   "outputs": [
    {
     "data": {
      "image/png": "[encoded data removed]",
      "text/plain": [
       "<Figure size 432x288 with 1 Axes>"
      ]
     },
     "metadata": {
      "needs_background": "light"
     },
     "output_type": "display_data"
    }
   ],
   "source": [
    "rs=dict(markerfacecolor='b',marker='s')\n",
    "plt.boxplot([df['variance'],df['skewness'],df['curtosis'],df['entropy']],flierprops=rs)\n",
    "plt.show()"
   ]
  },
  {
   "cell_type": "markdown",
   "id": "d9e86fad",
   "metadata": {},
   "source": [
    "**Conclusion from the above diagrams:** <br>\n",
    "There are outliers in entropy and curtosis column.<br><br>\n",
    "**Handling the outliers:** <br>\n",
    "For entropy column :"
   ]
  },
  {
   "cell_type": "code",
   "execution_count": 13,
   "id": "59534c05",
   "metadata": {},
   "outputs": [],
   "source": [
    "entropy_10=df['entropy'].quantile(0.10)\n",
    "entropy_90=df['entropy'].quantile(0.90)"
   ]
  },
  {
   "cell_type": "code",
   "execution_count": 14,
   "id": "89028037",
   "metadata": {},
   "outputs": [],
   "source": [
    "df[\"entropy\"] = np.where(df[\"entropy\"] <entropy_10,entropy_10,df['entropy'])"
   ]
  },
  {
   "cell_type": "markdown",
   "id": "45974c88",
   "metadata": {},
   "source": [
    "For curtosis column :"
   ]
  },
  {
   "cell_type": "code",
   "execution_count": 15,
   "id": "8877c822",
   "metadata": {},
   "outputs": [],
   "source": [
    "c_10=df['curtosis'].quantile(0.10)\n",
    "c_90=df['curtosis'].quantile(0.90)"
   ]
  },
  {
   "cell_type": "code",
   "execution_count": 16,
   "id": "204c46be",
   "metadata": {},
   "outputs": [],
   "source": [
    "df[\"curtosis\"] = np.where(df[\"curtosis\"] >c_90, c_90,df['curtosis'])"
   ]
  },
  {
   "cell_type": "markdown",
   "id": "ec15cee8",
   "metadata": {},
   "source": [
    "**After handling outliers :**"
   ]
  },
  {
   "cell_type": "code",
   "execution_count": 17,
   "id": "81385aa3",
   "metadata": {},
   "outputs": [
    {
     "data": {
      "image/png": "[encoded data removed]",
      "text/plain": [
       "<Figure size 432x288 with 1 Axes>"
      ]
     },
     "metadata": {
      "needs_background": "light"
     },
     "output_type": "display_data"
    }
   ],
   "source": [
    "rs=dict(markerfacecolor='b',marker='s')\n",
    "plt.boxplot([df['variance'],df['skewness'],df['curtosis'],df['entropy']],flierprops=rs)\n",
    "plt.show()"
   ]
  },
  {
   "cell_type": "markdown",
   "id": "ade90846",
   "metadata": {},
   "source": [
    "**Normalizing the features:**"
   ]
  },
  {
   "cell_type": "code",
   "execution_count": 18,
   "id": "d23bfdc3",
   "metadata": {},
   "outputs": [],
   "source": [
    "#Normalizing the feature values \n",
    "df_normalised=df.copy()\n",
    "df = (df_normalised - df_normalised.mean())/(df_normalised.std())\n",
    "#Class is to be predicted so replacing it with original values\n",
    "df['class']=df_normalised['class']"
   ]
  },
  {
   "cell_type": "code",
   "execution_count": 19,
   "id": "ceeb329c",
   "metadata": {},
   "outputs": [
    {
     "data": {
      "text/plain": [
       "array([0, 0, 0, ..., 1, 1, 1])"
      ]
     },
     "execution_count": 19,
     "metadata": {},
     "output_type": "execute_result"
    }
   ],
   "source": [
    "df['class'].values"
   ]
  },
  {
   "cell_type": "markdown",
   "id": "03cadb02",
   "metadata": {},
   "source": [
    "Replacing the class label '0' with '-1'"
   ]
  },
  {
   "cell_type": "code",
   "execution_count": 20,
   "id": "c43210cc",
   "metadata": {},
   "outputs": [
    {
     "data": {
      "text/plain": [
       "array([-1, -1, -1, ...,  1,  1,  1])"
      ]
     },
     "execution_count": 20,
     "metadata": {},
     "output_type": "execute_result"
    }
   ],
   "source": [
    "df[\"class\"].replace(0, -1, inplace=True)\n",
    "df['class'].values"
   ]
  },
  {
   "cell_type": "markdown",
   "id": "959076d2",
   "metadata": {},
   "source": [
    "Dataset after Preprocessing :"
   ]
  },
  {
   "cell_type": "code",
   "execution_count": 21,
   "id": "3edad496",
   "metadata": {},
   "outputs": [
    {
     "data": {
      "text/html": [
       "<div>\n",
       "<style scoped>\n",
       "    .dataframe tbody tr th:only-of-type {\n",
       "        vertical-align: middle;\n",
       "    }\n",
       "\n",
       "    .dataframe tbody tr th {\n",
       "        vertical-align: top;\n",
       "    }\n",
       "\n",
       "    .dataframe thead th {\n",
       "        text-align: right;\n",
       "    }\n",
       "</style>\n",
       "<table border=\"1\" class=\"dataframe\">\n",
       "  <thead>\n",
       "    <tr style=\"text-align: right;\">\n",
       "      <th></th>\n",
       "      <th>variance</th>\n",
       "      <th>skewness</th>\n",
       "      <th>curtosis</th>\n",
       "      <th>entropy</th>\n",
       "      <th>class</th>\n",
       "    </tr>\n",
       "  </thead>\n",
       "  <tbody>\n",
       "    <tr>\n",
       "      <th>0</th>\n",
       "      <td>1.109298</td>\n",
       "      <td>1.151392</td>\n",
       "      <td>-1.076511</td>\n",
       "      <td>0.327458</td>\n",
       "      <td>-1</td>\n",
       "    </tr>\n",
       "    <tr>\n",
       "      <th>1</th>\n",
       "      <td>1.432151</td>\n",
       "      <td>1.066415</td>\n",
       "      <td>-0.981123</td>\n",
       "      <td>-0.242652</td>\n",
       "      <td>-1</td>\n",
       "    </tr>\n",
       "    <tr>\n",
       "      <th>2</th>\n",
       "      <td>1.194665</td>\n",
       "      <td>-0.774859</td>\n",
       "      <td>0.217795</td>\n",
       "      <td>0.638283</td>\n",
       "      <td>-1</td>\n",
       "    </tr>\n",
       "    <tr>\n",
       "      <th>3</th>\n",
       "      <td>1.051664</td>\n",
       "      <td>1.297373</td>\n",
       "      <td>-1.405839</td>\n",
       "      <td>-1.440204</td>\n",
       "      <td>-1</td>\n",
       "    </tr>\n",
       "    <tr>\n",
       "      <th>4</th>\n",
       "      <td>-0.040709</td>\n",
       "      <td>-1.084456</td>\n",
       "      <td>0.942049</td>\n",
       "      <td>0.023164</td>\n",
       "      <td>-1</td>\n",
       "    </tr>\n",
       "  </tbody>\n",
       "</table>\n",
       "</div>"
      ],
      "text/plain": [
       "   variance  skewness  curtosis   entropy  class\n",
       "0  1.109298  1.151392 -1.076511  0.327458     -1\n",
       "1  1.432151  1.066415 -0.981123 -0.242652     -1\n",
       "2  1.194665 -0.774859  0.217795  0.638283     -1\n",
       "3  1.051664  1.297373 -1.405839 -1.440204     -1\n",
       "4 -0.040709 -1.084456  0.942049  0.023164     -1"
      ]
     },
     "execution_count": 21,
     "metadata": {},
     "output_type": "execute_result"
    }
   ],
   "source": [
    "df.head()"
   ]
  },
  {
   "cell_type": "markdown",
   "id": "9062d48c",
   "metadata": {},
   "source": [
    "### Dividing the data set into train and test set:\n",
    "**Note: Test set is the held out validation set.**<br>\n",
    "20 percent of the entire dataset is seperated as held out validation set or test set"
   ]
  },
  {
   "cell_type": "code",
   "execution_count": 22,
   "id": "61d5ffef",
   "metadata": {},
   "outputs": [],
   "source": [
    "data=df.values"
   ]
  },
  {
   "cell_type": "code",
   "execution_count": 23,
   "id": "ef7ff9e0",
   "metadata": {},
   "outputs": [
    {
     "data": {
      "text/plain": [
       "array([  74,  277,  111, ..., 1152,   57, 1140])"
      ]
     },
     "execution_count": 23,
     "metadata": {},
     "output_type": "execute_result"
    }
   ],
   "source": [
    "shuffled_idx = np.random.RandomState(seed=2021).permutation(np.arange(data.shape[0]))\n",
    "shuffled_idx"
   ]
  },
  {
   "cell_type": "code",
   "execution_count": 24,
   "id": "f11f8633",
   "metadata": {},
   "outputs": [],
   "source": [
    "test_ratio = 0.2\n",
    "split_idx = int(data.shape[0]*(1-test_ratio))\n",
    "train_idx, test_idx = shuffled_idx[:split_idx], shuffled_idx[split_idx:]"
   ]
  },
  {
   "cell_type": "code",
   "execution_count": 25,
   "id": "93ee8f58",
   "metadata": {},
   "outputs": [],
   "source": [
    "data_train,data_test = data[train_idx], data[test_idx]"
   ]
  },
  {
   "cell_type": "code",
   "execution_count": 26,
   "id": "829e023e",
   "metadata": {},
   "outputs": [
    {
     "data": {
      "text/plain": [
       "(1078, 5)"
      ]
     },
     "execution_count": 26,
     "metadata": {},
     "output_type": "execute_result"
    }
   ],
   "source": [
    "data_train.shape"
   ]
  },
  {
   "cell_type": "code",
   "execution_count": 27,
   "id": "ca946270",
   "metadata": {},
   "outputs": [
    {
     "data": {
      "text/plain": [
       "(270, 5)"
      ]
     },
     "execution_count": 27,
     "metadata": {},
     "output_type": "execute_result"
    }
   ],
   "source": [
    "data_test.shape"
   ]
  },
  {
   "cell_type": "markdown",
   "id": "88aa4a20",
   "metadata": {},
   "source": [
    "##### Function to make predictions using the algorithm implemented above:\n",
    "The function takes three parameters(X,Y,w) and returns y_pred (The predicted values of y)\n",
    "w is the weights obtained after training."
   ]
  },
  {
   "cell_type": "code",
   "execution_count": 28,
   "id": "16d79773",
   "metadata": {},
   "outputs": [],
   "source": [
    "def predict(X,Y,w) :\n",
    "    y_pred=np.dot(X,w)\n",
    "    y_pred[y_pred<0]=-1\n",
    "    y_pred[y_pred>=0]=1\n",
    "    return y_pred"
   ]
  },
  {
   "cell_type": "markdown",
   "id": "27de8873",
   "metadata": {},
   "source": [
    "### Training the model using cross validation :\n",
    "\n",
    "The function error_rate returns the error percentage of the predictions made."
   ]
  },
  {
   "cell_type": "code",
   "execution_count": 29,
   "id": "70c6338d",
   "metadata": {},
   "outputs": [],
   "source": [
    "def error_rate(actual, predicted):\n",
    "    wrong = 0\n",
    "    for i in range(len(actual)):\n",
    "        if actual[i] != predicted[i]:\n",
    "            wrong += 1\n",
    "    return wrong / float(len(actual)) * 100.0"
   ]
  },
  {
   "cell_type": "markdown",
   "id": "200912a3",
   "metadata": {},
   "source": [
    "The function cross_validation takes 4 parameters namely :\n",
    "- data (Data on which cross validation is performed)\n",
    "- k_folds (No. of folds to be used for cross validation)\n",
    "- H and k (Hyper-parameters, H is learning rate and k is mistake count) <br><br>\n",
    "The function returns the average error for k-fold cross validation."
   ]
  },
  {
   "cell_type": "code",
   "execution_count": 30,
   "id": "9a879392",
   "metadata": {},
   "outputs": [],
   "source": [
    "def cross_validation(data, k_folds,H=1,k=80):\n",
    "    fold_size = int(len(data) / k_folds)   \n",
    "    error=[]\n",
    "    for i in range(k_folds):\n",
    "        val_idx=list(range(i*fold_size, (i+1)*fold_size))\n",
    "        train_idx=list(range(0,len(data)))\n",
    "        idx=list(set(train_idx)-set(val_idx))\n",
    "        train=data[idx]\n",
    "        val=data[val_idx]\n",
    "        y_train=train[:,-1]\n",
    "        x_train=train[:,:-1]\n",
    "        x_val=val[:,:-1]\n",
    "        y_val=val[:,-1]\n",
    "        w=stochaistic_subGD(x_train,y_train,H,k)\n",
    "        y_pred=predict(x_val,y_val,w)\n",
    "        error.append(error_rate(y_val,y_pred))\n",
    "        #print(error_rate(y_val,y_pred))\n",
    "    return round(np.sum(error)/k_folds,2)"
   ]
  },
  {
   "cell_type": "markdown",
   "id": "7a1edbeb",
   "metadata": {},
   "source": [
    "Training the model using 5 fold cross validation :<br>\n",
    "Learning rate is kept fixed as 1"
   ]
  },
  {
   "cell_type": "code",
   "execution_count": 51,
   "id": "4f73146d",
   "metadata": {},
   "outputs": [],
   "source": [
    "average_error=cross_validation(data_train,5,1,200)"
   ]
  },
  {
   "cell_type": "code",
   "execution_count": 52,
   "id": "69182088",
   "metadata": {},
   "outputs": [
    {
     "name": "stdout",
     "output_type": "stream",
     "text": [
      "Cross-validated test set error = 1.77%\n"
     ]
    }
   ],
   "source": [
    "print('Cross-validated test set error = '+ str(average_error)+'%')"
   ]
  },
  {
   "cell_type": "markdown",
   "id": "64bfb944",
   "metadata": {},
   "source": [
    "### Finding the best model using cross-validation:"
   ]
  },
  {
   "cell_type": "markdown",
   "id": "9d593272",
   "metadata": {},
   "source": [
    "**Finding the best value of k for the perceptron algorithm for the given training data.** <br>\n",
    "Learning rate is kept fixed as 1"
   ]
  },
  {
   "cell_type": "code",
   "execution_count": 33,
   "id": "321b7645",
   "metadata": {},
   "outputs": [],
   "source": [
    "k_values=[20,30,40,50,60,70,80,90,100,110,120,140,160,180,200,220,240,260,280,300,320,340]\n",
    "average_error=[]\n",
    "for k in k_values :\n",
    "    error = cross_validation(data_train,5,1,k)\n",
    "    average_error.append(error)"
   ]
  },
  {
   "cell_type": "code",
   "execution_count": 34,
   "id": "186639ed",
   "metadata": {},
   "outputs": [
    {
     "data": {
      "image/png": "[encoded data removed]",
      "text/plain": [
       "<Figure size 720x360 with 1 Axes>"
      ]
     },
     "metadata": {
      "needs_background": "light"
     },
     "output_type": "display_data"
    }
   ],
   "source": [
    "plt.figure(figsize=(10,5))\n",
    "plt.title('Average cross-validation error v/s k')\n",
    "plt.xlabel(\"k\")\n",
    "plt.ylabel(\"Average cross-validation error\")\n",
    "plt.xticks(np.arange(len(k_values)),labels=k_values)\n",
    "plt.plot(average_error)\n",
    "plt.show()"
   ]
  },
  {
   "cell_type": "markdown",
   "id": "f3b80c28",
   "metadata": {},
   "source": [
    "The ideal value of k is between 180-320, i.e. we should check whether the algorithm makes any mistake or not  for around 200-320 iterations for good results."
   ]
  },
  {
   "cell_type": "markdown",
   "id": "fdb4f0cd",
   "metadata": {},
   "source": [
    "**Finding the best learning rate for the algorithm the given data set:** <br>\n",
    "The value of k is kept fixed as 300\n"
   ]
  },
  {
   "cell_type": "code",
   "execution_count": 35,
   "id": "8b5b2ac3",
   "metadata": {},
   "outputs": [],
   "source": [
    "learning_rates=[1,0.5,0.1,0.05,0.01,0.005,0.001]\n",
    "average_error=[]\n",
    "for l in learning_rates :\n",
    "    error = cross_validation(data_train,5,l,300)\n",
    "    average_error.append(error)"
   ]
  },
  {
   "cell_type": "code",
   "execution_count": 36,
   "id": "1e09d380",
   "metadata": {},
   "outputs": [
    {
     "data": {
      "text/plain": [
       "[1.21, 1.21, 1.21, 1.21, 1.02, 1.4, 2.6]"
      ]
     },
     "execution_count": 36,
     "metadata": {},
     "output_type": "execute_result"
    }
   ],
   "source": [
    "average_error"
   ]
  },
  {
   "cell_type": "code",
   "execution_count": 37,
   "id": "0a6e61f8",
   "metadata": {},
   "outputs": [
    {
     "data": {
      "image/png": "[encoded data removed]",
      "text/plain": [
       "<Figure size 720x360 with 1 Axes>"
      ]
     },
     "metadata": {
      "needs_background": "light"
     },
     "output_type": "display_data"
    }
   ],
   "source": [
    "plt.figure(figsize=(10,5))\n",
    "plt.title('Average cross-validation error v/s Learning rates')\n",
    "plt.xlabel(\"Learning Rate\")\n",
    "plt.ylabel(\"Average cross-validation error\")\n",
    "plt.xticks(np.arange(len(learning_rates)),labels=learning_rates)\n",
    "plt.plot(average_error)\n",
    "plt.show()"
   ]
  },
  {
   "cell_type": "markdown",
   "id": "259ae189",
   "metadata": {},
   "source": [
    "**Conclusion:** It's difficult to draw any conclusion for learning rate for the algorithm, as the graph changes every time the code is executed. So, I am going to stick with learning rate = 1 for the best model.(1 was the value given in slides)"
   ]
  },
  {
   "cell_type": "markdown",
   "id": "b1dc200a",
   "metadata": {},
   "source": [
    "### Training the best model:\n",
    "Learning rate = 1 and k = 300"
   ]
  },
  {
   "cell_type": "code",
   "execution_count": 38,
   "id": "13c530f1",
   "metadata": {},
   "outputs": [],
   "source": [
    "y_train=data_train[:,-1]\n",
    "x_train=data_train[:,:-1]"
   ]
  },
  {
   "cell_type": "code",
   "execution_count": 39,
   "id": "e664d1c6",
   "metadata": {},
   "outputs": [],
   "source": [
    "w=stochaistic_subGD(x_train,y_train, H=1, k=300)"
   ]
  },
  {
   "cell_type": "markdown",
   "id": "7b499d07",
   "metadata": {},
   "source": [
    "### Calculating the $ F_{1} $ score on the held out set for the best model :\n",
    "<br>\n",
    "Here, TP means True positive, FP means False positive and FN means False negative. <br><br>\n",
    "<center>p = $ \\frac {TP}{TP+FP} $ <br><br>\n",
    "r = $ \\frac {TP}{TP+FN} $ </center> <br> <br> \n",
    "where, p is the precision and r is the recall. <br><br>\n",
    " <center>   $F_{1}$ = $\\frac {2pr}{p+r}$ <br> <br>\n",
    "    $ \\implies $ $F_{1}$ = $\\frac {TP}{TP+0.5*(FP+FN)}$ "
   ]
  },
  {
   "cell_type": "code",
   "execution_count": 40,
   "id": "03f7f953",
   "metadata": {},
   "outputs": [],
   "source": [
    "def f1_score(y_pred,y_test) :\n",
    "    TP=0\n",
    "    FP=0\n",
    "    FN=0\n",
    "    for i in range(len(y_test)):\n",
    "        if y_test[i] == 1 and y_pred[i] == 1 :\n",
    "            TP=TP+1\n",
    "        elif y_test[i] == -1 and y_pred[i] == 1 :\n",
    "            FP=FP+1\n",
    "        elif y_test[i] == 1 and y_pred[i] == -1 :\n",
    "            FN=FN+1\n",
    "    #print(TP,FP,FN)\n",
    "    F1=TP/(TP+0.5*FP+0.5*FN)\n",
    "    return F1"
   ]
  },
  {
   "cell_type": "code",
   "execution_count": 41,
   "id": "3e2e3a58",
   "metadata": {},
   "outputs": [],
   "source": [
    "y_test=data_test[:,-1]\n",
    "x_test=data_test[:,:-1]"
   ]
  },
  {
   "cell_type": "code",
   "execution_count": 42,
   "id": "6725de90",
   "metadata": {},
   "outputs": [],
   "source": [
    "y_pred=predict(x_test,y_test,w)"
   ]
  },
  {
   "cell_type": "code",
   "execution_count": 43,
   "id": "59aec6cc",
   "metadata": {},
   "outputs": [
    {
     "name": "stdout",
     "output_type": "stream",
     "text": [
      "The F1 score on held out validation set is: 0.9916666666666667\n"
     ]
    }
   ],
   "source": [
    "print('The F1 score on held out validation set is:',f1_score(y_pred,y_test))"
   ]
  },
  {
   "cell_type": "markdown",
   "id": "c38d25c3",
   "metadata": {},
   "source": [
    "### <center> Answer 2 <center>\n",
    "*There are will be a few warnings while execution of the code below. Kindly, ignore those.*"
   ]
  },
  {
   "cell_type": "markdown",
   "id": "4f337425",
   "metadata": {},
   "source": [
    "**Generating 50 random samples from a normal distribution with mean 10 and SD 5:**"
   ]
  },
  {
   "cell_type": "code",
   "execution_count": 44,
   "id": "6fcc8126",
   "metadata": {},
   "outputs": [],
   "source": [
    "np.random.seed(2021)\n",
    "X=5*np.random.randn(50)+10"
   ]
  },
  {
   "cell_type": "markdown",
   "id": "f293467f",
   "metadata": {},
   "source": [
    "The function below helps in plotting the normal distribution :"
   ]
  },
  {
   "cell_type": "code",
   "execution_count": 45,
   "id": "47fd1a55",
   "metadata": {},
   "outputs": [],
   "source": [
    "def normpdf(x, mu, sigma) :\n",
    "    u = (x-mu)/abs(sigma)\n",
    "    y = (1/(np.sqrt(2*np.pi)*abs(sigma)))*np.exp(-u*u/2)\n",
    "    return y"
   ]
  },
  {
   "cell_type": "markdown",
   "id": "67d957bb",
   "metadata": {},
   "source": [
    "**Likelihood for the data samples:**"
   ]
  },
  {
   "cell_type": "markdown",
   "id": "24485bb7",
   "metadata": {},
   "source": [
    "- There are 50 independent trials. ( n = 50 ) <br>\n",
    "- Each data sample is drawn from a normal distribution i.e. N($ \\mu$ = 10, $\\sigma^{2}$ = 25)\n",
    "\n",
    "P($ x_{1},x_{2},...,x_{n}$| $\\mu$,$\\sigma^{2}$) = L($\\mu,\\sigma^{2}$) = $ \\prod_{i=1}^{n} \\frac{1}{\\sqrt{2\\pi \\sigma^{2}}}$exp$ (\\frac {-1}{2 \\sigma^{2}} (x_{i}-\\mu)^2)$ <br><br>\n",
    "  $\\propto \\frac {1}{\\sigma}exp(\\frac {-1}{2 \\sigma^{2}}\\sum_{i=1}^{n}(x_{i}-\\mu)^2)$ <br><br>\n",
    "    $\\propto exp(\\frac {-1}{2 \\sigma^{2}}(\\sum x_{i}^{2} -2\\mu \\sum x_{i} + n\\mu^{2})) $ <br><br>\n",
    "     $\\propto exp(\\frac {-n}{2 \\sigma^{2}}( -2\\mu \\bar{x} + \\mu^{2}))$ <br><br>\n",
    "     $\\propto exp(\\frac {-n}{2 \\sigma^{2}}(\\mu - \\bar{x})^{2})$ <br><br>\n",
    "     $\\propto exp(\\frac {-1}{2 \\sigma_{L}^{2}}(\\mu - \\mu_{L})^{2}) \\ $ \n",
    "        where, $ \\mu_{L}= \\bar{x}, \\ \\sigma_{L}^{2} = \\frac {\\sigma^{2}}{n}$ \n",
    "        \n",
    " $ \\therefore$ Likelihood ~ N($ \\mu_{L} = \\bar{x},\\sigma_{L}^{2}=\\frac {\\sigma^{2}}{n} )$"
   ]
  },
  {
   "cell_type": "markdown",
   "id": "6bb3d6ac",
   "metadata": {},
   "source": [
    "*Calculating $\\mu_{L}$ and $\\sigma_{L}$ :*"
   ]
  },
  {
   "cell_type": "code",
   "execution_count": 46,
   "id": "b29a39bc",
   "metadata": {},
   "outputs": [
    {
     "name": "stdout",
     "output_type": "stream",
     "text": [
      "10.549819182352305 0.7071067811865475\n"
     ]
    }
   ],
   "source": [
    "mean_likelihood=np.mean(X)\n",
    "std_likelihood=5/np.sqrt(len(X))\n",
    "print(mean_likelihood,std_likelihood)"
   ]
  },
  {
   "cell_type": "markdown",
   "id": "3c061679",
   "metadata": {},
   "source": [
    "**Plotting the likelihood**"
   ]
  },
  {
   "cell_type": "code",
   "execution_count": 47,
   "id": "eb76f75e",
   "metadata": {},
   "outputs": [
    {
     "data": {
      "image/png": "[encoded data removed]",
      "text/plain": [
       "<Figure size 540x396 with 1 Axes>"
      ]
     },
     "metadata": {
      "needs_background": "light"
     },
     "output_type": "display_data"
    }
   ],
   "source": [
    "x = np.linspace(-100, 100, 1000)\n",
    "plt.figure(figsize=(7.5,5.5))\n",
    "plt.plot(x, normpdf(x,mean_likelihood,std_likelihood))\n",
    "plt.xlim(-20, 40)\n",
    "plt.title('Likelihood', fontsize='15')\n",
    "plt.show()"
   ]
  },
  {
   "cell_type": "markdown",
   "id": "a020a3ac",
   "metadata": {},
   "source": [
    "**Plotting the Prior:** <br> \n",
    "$ \\mu $ = 25 and\n",
    "$ \\sigma$ = 5"
   ]
  },
  {
   "cell_type": "code",
   "execution_count": 48,
   "id": "c4fb2d69",
   "metadata": {},
   "outputs": [
    {
     "data": {
      "image/png": "[encoded data removed]",
      "text/plain": [
       "<Figure size 540x396 with 1 Axes>"
      ]
     },
     "metadata": {
      "needs_background": "light"
     },
     "output_type": "display_data"
    }
   ],
   "source": [
    "mean_prior=25\n",
    "std_prior=5\n",
    "x = np.linspace(-100, 100, 1000)\n",
    "plt.figure(figsize=(7.5,5.5))\n",
    "plt.plot(x, normpdf(x,mean_prior,std_prior))\n",
    "plt.xlim(-10, 60)\n",
    "plt.title('Prior', fontsize='15')\n",
    "plt.show()"
   ]
  },
  {
   "cell_type": "markdown",
   "id": "8714cd35",
   "metadata": {},
   "source": [
    "**Posterior for the data-samples with the given prior:** <br><br>\n",
    "Prior ~ N($\\mu_{p},\\sigma_{p}^{2}$) <br><br>\n",
    "Likelihood ~ N($\\bar{x},\\frac {\\sigma^{2}}{n}$) <br><br>\n",
    "Posterior ~ Prior * Likelihood <br><br>$ \\propto exp(\\frac{-1}{2\\sigma_{p}^{2}}(\\mu-\\mu_{p})^{2})exp(\\frac{-n}{2\\sigma^{2}}(\\mu-\\bar{x})^{2})$ <br><br>\n",
    "    $ \\propto exp(\\frac{-1}{2\\sigma_{p}^{2}}(\\mu^{2}-2\\mu \\mu_{p}+\\mu_{p}^{2}))exp(\\frac{-n}{2\\sigma^{2}}(\\mu^{2}-2\\mu \\bar{x}+\\bar {x}^{2}))$ <br> <br>\n",
    "$ \\propto exp(\\frac{-1}{2}[\\mu^{2}(\\frac{1}{\\sigma_{p}^{2}}+ \\frac{n}{\\sigma^{2}}) \\ - \\ 2\\mu(\\frac{\\mu_{p}}{\\sigma_{p}^{2}} \\ + \\ \\frac{n\\bar{x}}{\\sigma^{2}})\\ + \\ \\frac{\\mu_{p}^{2}}{\\sigma_{p}^{2}}\\ + \\ \\frac{\\bar{x}^{2}}{\\sigma^{2}}])$ <br> <br>\n",
    "Posterior ~ N($\\mu_{post},\\sigma_{post}^{2}$) <br><br>\n",
    "Comparing, we get : $\\mu_{post} \\ = \\ \\frac{\\mu_{p}\\sigma^{2} + n\\bar{x}\\sigma_{p}^{2}}{\\sigma^{2}+\\sigma_{p}^{2}n} $ and $\\sigma_{post}^{2}\\ = \\ \\frac{\\sigma^{2}\\sigma_{p}^{2}}{\\sigma^{2}+\\sigma_{p}^{2}n}$ <br><br>\n",
    "Alternatively we can write it as : <br><br>\n",
    "$\\sigma_{post}^{2} \\ = \\ ( \\frac{1}{\\sigma_{p}^{2}} + \\frac{n}{\\sigma^{2}})^{-1} $ <br><br>\n",
    "$\\mu_{post} \\ = \\ \\sigma_{post}^{2}(\\frac{\\mu_{p}}{\\sigma_{p}{2}} + \\frac{n\\bar{x}}{\\sigma^{2}}) $ <br><br>\n",
    "\n",
    "*The expression derived above is used to plot the posterior:*\n"
   ]
  },
  {
   "cell_type": "code",
   "execution_count": 49,
   "id": "374460f4",
   "metadata": {},
   "outputs": [],
   "source": [
    "def posterior(X, mu,sigma,mu_prior,sigma_prior) :\n",
    "    p=1/pow((sigma_prior),2)\n",
    "    q=len(X)/pow((sigma),2)\n",
    "    inv=p+q\n",
    "    var=1/inv\n",
    "    p=p*mu_prior\n",
    "    q=q*np.mean(X)\n",
    "    mean=var*(p+q)\n",
    "    return mean,np.sqrt(var)"
   ]
  },
  {
   "cell_type": "code",
   "execution_count": 50,
   "id": "d32cd8db",
   "metadata": {},
   "outputs": [
    {
     "name": "stdout",
     "output_type": "stream",
     "text": [
      "10.83315606112971 0.7001400420140049\n"
     ]
    }
   ],
   "source": [
    "mu_posterior, std_posterior = posterior(X,mean_likelihood,5,mean_prior,std_prior)\n",
    "print(mu_posterior,std_posterior)"
   ]
  },
  {
   "cell_type": "code",
   "execution_count": 51,
   "id": "5bb0dd50",
   "metadata": {},
   "outputs": [
    {
     "data": {
      "image/png": "[encoded data removed]",
      "text/plain": [
       "<Figure size 540x396 with 1 Axes>"
      ]
     },
     "metadata": {
      "needs_background": "light"
     },
     "output_type": "display_data"
    }
   ],
   "source": [
    "x = np.linspace(-100, 100, 5000)\n",
    "plt.figure(figsize=(7.5,5.5))\n",
    "plt.plot(x, normpdf(x,mu_posterior,std_posterior))\n",
    "plt.xlim(6, 15)\n",
    "plt.title('Posterior', fontsize='15')\n",
    "#plt.xlabel('Values of Random Variable X', fontsize='15')\n",
    "#plt.ylabel('Probability', fontsize='15')\n",
    "plt.show()"
   ]
  },
  {
   "cell_type": "markdown",
   "id": "b43383b2",
   "metadata": {},
   "source": [
    "### Plotting the pdf for Likelihood, Posterior and Prior on a single graph:"
   ]
  },
  {
   "cell_type": "code",
   "execution_count": 52,
   "id": "92faccb6",
   "metadata": {},
   "outputs": [
    {
     "data": {
      "image/png": "[encoded data removed]",
      "text/plain": [
       "<Figure size 756x396 with 1 Axes>"
      ]
     },
     "metadata": {
      "needs_background": "light"
     },
     "output_type": "display_data"
    }
   ],
   "source": [
    "x = np.linspace(-50, 100, 5000)\n",
    "plt.figure(figsize=(10.5,5.5))\n",
    "plt.plot(x, normpdf(x,mean_likelihood,std_likelihood),label='likelihood')\n",
    "plt.plot(x, normpdf(x,mean_prior,std_prior),label='prior')\n",
    "plt.plot(x, normpdf(x,mu_posterior,std_posterior),label='posterior')\n",
    "plt.xlim(-10, 40)\n",
    "#plt.title('Posterior', fontsize='15')\n",
    "#plt.xlabel('Values of Random Variable X', fontsize='15')\n",
    "#plt.ylabel('Probability', fontsize='15')\n",
    "plt.legend()\n",
    "plt.show()"
   ]
  },
  {
   "cell_type": "markdown",
   "id": "e0f38c19",
   "metadata": {},
   "source": [
    "### Metropolis Algorithm for posterior estimation :"
   ]
  },
  {
   "cell_type": "markdown",
   "id": "c0229a86",
   "metadata": {},
   "source": [
    "The histograms plotted are the approximations of the posterior using Metropolis.<br><br>"
   ]
  },
  {
   "cell_type": "code",
   "execution_count": 53,
   "id": "4526db83",
   "metadata": {},
   "outputs": [],
   "source": [
    "#Calculates probability\n",
    "def f(x, mu, sigma) :\n",
    "    u = (x-mu)/abs(sigma)\n",
    "    y = (1/(np.sqrt(2*np.pi)*abs(sigma)))*np.exp(-u*u/2)\n",
    "    return y"
   ]
  },
  {
   "cell_type": "code",
   "execution_count": 54,
   "id": "4b7773ae",
   "metadata": {},
   "outputs": [],
   "source": [
    "#Calculates the likelihood\n",
    "def fl(likehood_sample,mu,sigma) :\n",
    "    prob = [f(i,mu,sigma) for i in likehood_sample]\n",
    "    return np.prod(prob)"
   ]
  },
  {
   "cell_type": "code",
   "execution_count": 55,
   "id": "5d9b6abc",
   "metadata": {},
   "outputs": [],
   "source": [
    "def metropolis(sigma,N) :\n",
    "    sample=[1]\n",
    "    prev_posterior=fl(X,sample[-1],sigma)*f(sample[-1],25,5)\n",
    "    iterations=[0]\n",
    "    for i in range(N):\n",
    "    #sample candidate from normal distribution\n",
    "        candidate = np.random.normal(sample[-1], sigma)\n",
    "    \n",
    "    #calculate probability of accepting this candidate\n",
    "        prior = f(candidate,25,5)\n",
    "        likelihood = fl(X,candidate,sigma)\n",
    "        current_posterior = likelihood*prior\n",
    "        prob = min(1,(current_posterior/prev_posterior))\n",
    "\n",
    "\n",
    "        #accept with the calculated probability\n",
    "        if np.random.random() < prob :\n",
    "            sample.append(candidate)\n",
    "            prev_posterior=current_posterior\n",
    "            \n",
    "        else :\n",
    "            sample.append(sample[-1])\n",
    "\n",
    "        \n",
    "        iterations.append(i+1)\n",
    "        \n",
    "        \n",
    "    return iterations,sample"
   ]
  },
  {
   "cell_type": "markdown",
   "id": "9c426685",
   "metadata": {},
   "source": [
    "Posterior estimation with width = 6 and sampled for 2L iterations:<br><br>\n",
    "*The code below takes some time to get executed(worst case 2 Minutes) Kindly let it run for the same*"
   ]
  },
  {
   "cell_type": "code",
   "execution_count": 56,
   "id": "44e3deb7",
   "metadata": {},
   "outputs": [],
   "source": [
    "iterations,sample=metropolis(6,200000)\n",
    "burn_in = 1000\n",
    "retained_samples = sample[burn_in+1:]"
   ]
  },
  {
   "cell_type": "code",
   "execution_count": 57,
   "id": "7c5ffce7",
   "metadata": {},
   "outputs": [
    {
     "data": {
      "image/png": "[encoded data removed]",
      "text/plain": [
       "<Figure size 720x432 with 1 Axes>"
      ]
     },
     "metadata": {
      "needs_background": "light"
     },
     "output_type": "display_data"
    },
    {
     "name": "stdout",
     "output_type": "stream",
     "text": [
      "Approximated Value: 10.96\n",
      "True Exp. Value: 10.55\n"
     ]
    }
   ],
   "source": [
    "plt.figure(figsize=(10,6))\n",
    "plt.hist(retained_samples, bins=500,density=True,stacked=True)\n",
    "plt.plot(x, normpdf(x,mu_posterior,std_posterior),label='Analytic Posterior',color='r')\n",
    "plt.xlim(0,20)\n",
    "plt.legend()\n",
    "plt.title('Metropolis Posterior and Analytic Posterior')\n",
    "#plt.title('Empirical Exp. Value: %s\\nTrue Exp. Value: %s'%(round(np.mean(retained_samples), 2), round(np.mean(X), 2)), fontsize=20)\n",
    "plt.show()\n",
    "print('Approximated Value: %s\\nTrue Exp. Value: %s'%(round(np.mean(retained_samples), 2),round(np.mean(X), 2)))"
   ]
  },
  {
   "cell_type": "markdown",
   "id": "3e7eccde",
   "metadata": {},
   "source": [
    "**Samples vs iteration graphs for different SD(widths):** <br><br>\n",
    "*The codes below take some time to get executed(Worst case- 2 Minutes for each cell), kindly let it run for the same.*<br><br>\n",
    "The graphs below are drawn to get some idea about the convergence of the algorithm."
   ]
  },
  {
   "cell_type": "markdown",
   "id": "7ff1a40f",
   "metadata": {},
   "source": [
    "*Width = 3*"
   ]
  },
  {
   "cell_type": "code",
   "execution_count": 58,
   "id": "1e7d2347",
   "metadata": {},
   "outputs": [
    {
     "data": {
      "image/png": "[encoded data removed]",
      "text/plain": [
       "<Figure size 720x432 with 1 Axes>"
      ]
     },
     "metadata": {
      "needs_background": "light"
     },
     "output_type": "display_data"
    }
   ],
   "source": [
    "iterations,sample=metropolis(3,100000)\n",
    "plt.figure(figsize=(10,6))\n",
    "plt.plot(iterations,sample,label='s.d = 1.5')\n",
    "plt.ylabel('candidate')\n",
    "plt.xlabel('iterations')\n",
    "plt.legend()\n",
    "plt.show()"
   ]
  },
  {
   "cell_type": "markdown",
   "id": "25b4868e",
   "metadata": {},
   "source": [
    "*Width = 5*"
   ]
  },
  {
   "cell_type": "code",
   "execution_count": 59,
   "id": "fd81b05f",
   "metadata": {},
   "outputs": [
    {
     "data": {
      "image/png": "[encoded data removed]",
      "text/plain": [
       "<Figure size 720x432 with 1 Axes>"
      ]
     },
     "metadata": {
      "needs_background": "light"
     },
     "output_type": "display_data"
    }
   ],
   "source": [
    "iterations,sample=metropolis(5,100000)\n",
    "plt.figure(figsize=(10,6))\n",
    "plt.plot(iterations,sample,label='s.d = 5')\n",
    "plt.ylabel('candidate')\n",
    "plt.xlabel('iterations')\n",
    "plt.legend()\n",
    "plt.show()"
   ]
  },
  {
   "cell_type": "markdown",
   "id": "b1d4829a",
   "metadata": {},
   "source": [
    "*Width = 10*"
   ]
  },
  {
   "cell_type": "code",
   "execution_count": 60,
   "id": "6db5fa6c",
   "metadata": {},
   "outputs": [
    {
     "data": {
      "image/png": "[encoded data removed]",
      "text/plain": [
       "<Figure size 720x432 with 1 Axes>"
      ]
     },
     "metadata": {
      "needs_background": "light"
     },
     "output_type": "display_data"
    }
   ],
   "source": [
    "iterations,sample=metropolis(10,100000)\n",
    "plt.figure(figsize=(10,6))\n",
    "plt.plot(iterations,sample,label='s.d = 10')\n",
    "plt.ylabel('candidate')\n",
    "plt.xlabel('iterations')\n",
    "plt.legend()\n",
    "plt.show()"
   ]
  },
  {
   "cell_type": "markdown",
   "id": "7d22d2ea",
   "metadata": {},
   "source": [
    "**Effect of width on convergence:** \n",
    "From the above graphs it can be seen that when width is large the selected candidates tend to spread more. Therefore, for a very large width convergence might take more number of iterations and might not give a good approximation."
   ]
  },
  {
   "cell_type": "markdown",
   "id": "0cdf1093",
   "metadata": {},
   "source": [
    "### Implementation of convergence in the Metropolis algorithm: \n",
    "We can say that the algorithm has converged when the statistics(mean/mode) of the samples generate don't change by much.<br><br>\n",
    "**Note:** <br>\n",
    "- Below, I have used mean to check for convergence.\n",
    "- The change in mean is checked in the following manner:<center>\n",
    "    - Look into the last 3*k(=2400, default value) samples.\n",
    "    - Divide the last 3*k samples into two parts as old and current.\n",
    "    - Old contains the first 2*k(=1600) samples and current contains the next k(=800) samples\n",
    "    - If the difference of mean of old and current is less than the tolerance(1e-04) then break. i.e. The algorithm has converged. </center>\n",
    "    <br><br>\n",
    "\n",
    "- The algorithm runs for a minimum of min_samples(=10K) number of iterations, and then we check for convergence. This is done because there has to be some burn in period and the approximation is not reliable without enough samples."
   ]
  },
  {
   "cell_type": "code",
   "execution_count": 61,
   "id": "082b3906",
   "metadata": {},
   "outputs": [],
   "source": [
    "def check_convergence(sample,k) :\n",
    "    current=sample[-k:-1]\n",
    "    old=sample[-3*k:-k]\n",
    "    if np.abs(np.mean(current)-np.mean(old)) < 1e-04 :\n",
    "        return 1\n",
    "    return 0"
   ]
  },
  {
   "cell_type": "code",
   "execution_count": 62,
   "id": "6182914c",
   "metadata": {},
   "outputs": [],
   "source": [
    "def metropolis_convergence(sigma,N, k = 800,min_samples=10000) :\n",
    "    sample=[1]\n",
    "    prev_posterior=fl(X,sample[-1],sigma)*f(sample[-1],25,5)\n",
    "    iterations=[0]\n",
    "    for i in range(N):\n",
    "    #sample candidate from normal distribution\n",
    "        candidate = np.random.normal(sample[-1], sigma)\n",
    "    \n",
    "    #calculate probability of accepting this candidate\n",
    "        prior = f(candidate,25,5)\n",
    "        likelihood = fl(X,candidate,sigma)\n",
    "        current_posterior = likelihood*prior\n",
    "        prob = min(1,(current_posterior/prev_posterior))\n",
    "\n",
    "        iterations.append(i+1)\n",
    "        #accept with the calculated probability\n",
    "        if np.random.random() < prob :\n",
    "            sample.append(candidate) \n",
    "            prev_posterior=current_posterior\n",
    "        else :\n",
    "            sample.append(sample[-1])\n",
    "        if i > min_samples :\n",
    "            if (check_convergence(sample,k)) :\n",
    "                print('converged at '+str(i)+' for width = '+str(sigma))\n",
    "                break\n",
    "    \n",
    "    burn_in = 1000\n",
    "    retained_samples = sample[burn_in+1:]  \n",
    "          \n",
    "    return iterations,retained_samples"
   ]
  },
  {
   "cell_type": "markdown",
   "id": "e4e1f2ad",
   "metadata": {},
   "source": [
    "**Checking the speed of convergence with varying widths:**<br>\n",
    "The speed of convergence is checked with respect to number of iterations and the convergence criteria used is stated above."
   ]
  },
  {
   "cell_type": "code",
   "execution_count": 63,
   "id": "cf4e48e3",
   "metadata": {},
   "outputs": [
    {
     "name": "stderr",
     "output_type": "stream",
     "text": [
      "/tmp/ipykernel_25278/1647434770.py:13: RuntimeWarning: invalid value encountered in double_scalars\n",
      "  prob = min(1,(current_posterior/prev_posterior))\n",
      "/tmp/ipykernel_25278/1647434770.py:13: RuntimeWarning: divide by zero encountered in double_scalars\n",
      "  prob = min(1,(current_posterior/prev_posterior))\n"
     ]
    },
    {
     "name": "stdout",
     "output_type": "stream",
     "text": [
      "converged at 10008 for width = 1\n",
      "converged at 10323 for width = 2\n",
      "converged at 10342 for width = 3\n",
      "converged at 11356 for width = 4\n",
      "converged at 10807 for width = 5\n",
      "converged at 11875 for width = 6\n",
      "converged at 12610 for width = 7\n",
      "converged at 10316 for width = 8\n",
      "converged at 12947 for width = 9\n"
     ]
    }
   ],
   "source": [
    "widths=[i for i in range(1,10,1)]\n",
    "converged=[]\n",
    "values=[]\n",
    "for w in widths :\n",
    "    iterations,sample=metropolis_convergence(w,100000,800,10000)\n",
    "    values.append(np.mean(sample))\n",
    "    converged.append(iterations[-1])"
   ]
  },
  {
   "cell_type": "code",
   "execution_count": 64,
   "id": "2b495d00",
   "metadata": {},
   "outputs": [
    {
     "data": {
      "image/png": "[encoded data removed]",
      "text/plain": [
       "<Figure size 720x432 with 1 Axes>"
      ]
     },
     "metadata": {
      "needs_background": "light"
     },
     "output_type": "display_data"
    }
   ],
   "source": [
    "plt.figure(figsize=(10,6))\n",
    "plt.plot(widths,converged)\n",
    "plt.xticks(widths)\n",
    "plt.ylabel('Time (in terms of iterations)')\n",
    "plt.xlabel('width')\n",
    "plt.show()"
   ]
  },
  {
   "cell_type": "markdown",
   "id": "690fa219",
   "metadata": {},
   "source": [
    "**Plotting the approximation with varying widths:**"
   ]
  },
  {
   "cell_type": "code",
   "execution_count": 65,
   "id": "f2dca95d",
   "metadata": {},
   "outputs": [
    {
     "name": "stderr",
     "output_type": "stream",
     "text": [
      "/tmp/ipykernel_25278/1647434770.py:13: RuntimeWarning: invalid value encountered in double_scalars\n",
      "  prob = min(1,(current_posterior/prev_posterior))\n",
      "/tmp/ipykernel_25278/1647434770.py:13: RuntimeWarning: divide by zero encountered in double_scalars\n",
      "  prob = min(1,(current_posterior/prev_posterior))\n"
     ]
    },
    {
     "name": "stdout",
     "output_type": "stream",
     "text": [
      "converged at 17304 for width = 2\n"
     ]
    },
    {
     "data": {
      "image/png": "[encoded data removed]",
      "text/plain": [
       "<Figure size 360x144 with 1 Axes>"
      ]
     },
     "metadata": {
      "needs_background": "light"
     },
     "output_type": "display_data"
    },
    {
     "name": "stdout",
     "output_type": "stream",
     "text": [
      "converged at 10836 for width = 4\n"
     ]
    },
    {
     "data": {
      "image/png": "[encoded data removed]",
      "text/plain": [
       "<Figure size 360x144 with 1 Axes>"
      ]
     },
     "metadata": {
      "needs_background": "light"
     },
     "output_type": "display_data"
    },
    {
     "name": "stdout",
     "output_type": "stream",
     "text": [
      "converged at 10021 for width = 5\n"
     ]
    },
    {
     "data": {
      "image/png": "[encoded data removed]",
      "text/plain": [
       "<Figure size 360x144 with 1 Axes>"
      ]
     },
     "metadata": {
      "needs_background": "light"
     },
     "output_type": "display_data"
    },
    {
     "name": "stdout",
     "output_type": "stream",
     "text": [
      "converged at 15048 for width = 6\n"
     ]
    },
    {
     "data": {
      "image/png": "[encoded data removed]",
      "text/plain": [
       "<Figure size 360x144 with 1 Axes>"
      ]
     },
     "metadata": {
      "needs_background": "light"
     },
     "output_type": "display_data"
    },
    {
     "name": "stdout",
     "output_type": "stream",
     "text": [
      "converged at 17456 for width = 7\n"
     ]
    },
    {
     "data": {
      "image/png": "[encoded data removed]",
      "text/plain": [
       "<Figure size 360x144 with 1 Axes>"
      ]
     },
     "metadata": {
      "needs_background": "light"
     },
     "output_type": "display_data"
    },
    {
     "name": "stdout",
     "output_type": "stream",
     "text": [
      "converged at 16091 for width = 10\n"
     ]
    },
    {
     "data": {
      "image/png": "[encoded data removed]",
      "text/plain": [
       "<Figure size 360x144 with 1 Axes>"
      ]
     },
     "metadata": {
      "needs_background": "light"
     },
     "output_type": "display_data"
    },
    {
     "name": "stdout",
     "output_type": "stream",
     "text": [
      "converged at 16854 for width = 20\n"
     ]
    },
    {
     "data": {
      "image/png": "[encoded data removed]",
      "text/plain": [
       "<Figure size 360x144 with 1 Axes>"
      ]
     },
     "metadata": {
      "needs_background": "light"
     },
     "output_type": "display_data"
    }
   ],
   "source": [
    "widths=[2,4,5,6,7,10,20]\n",
    "\n",
    "for w in widths :\n",
    "    iterations,sample=metropolis_convergence(w,100000,800,10000)\n",
    "    plt.figure(figsize=(5,2))\n",
    "    plt.hist(sample, bins=1000, density=True)\n",
    "    plt.plot(x, normpdf(x,mu_posterior,std_posterior),label='Posterior',color='red')\n",
    "    plt.xlim(0,20)\n",
    "    plt.legend()\n",
    "    plt.title('Metropolis Posterior and Analytic Posterior')\n",
    "    #plt.title('Empirical Exp. Value: %s\\nTrue Exp. Value: %s'%(round(np.mean(retained_samples), 2), round(np.mean(X), 2)), fontsize=20)\n",
    "    plt.show()\n"
   ]
  },
  {
   "cell_type": "markdown",
   "id": "750b72da",
   "metadata": {},
   "source": [
    "**Optimal Width:**\n",
    "An optimal width that would work best lies somewhere between 4 and 7. (Not only according to speed of convergence, but also helps in better approximation)"
   ]
  },
  {
   "cell_type": "markdown",
   "id": "cf481acf",
   "metadata": {},
   "source": [
    "**Conclusion:** <br>\n",
    "From the above graphs it can be said that the algorithm converges after sufficient number of iterations for different widths. <br>\n",
    "But with very few samples the approximation isn't nice."
   ]
  },
  {
   "cell_type": "markdown",
   "id": "14524e0f",
   "metadata": {},
   "source": [
    "### Posterior estimation using optimal width and convergence:\n",
    "Width = 6.1, convergence is checked after 30K samples are collected."
   ]
  },
  {
   "cell_type": "code",
   "execution_count": 66,
   "id": "5fe0585e",
   "metadata": {},
   "outputs": [
    {
     "name": "stdout",
     "output_type": "stream",
     "text": [
      "converged at 32308 for width = 6.1\n"
     ]
    },
    {
     "data": {
      "image/png": "[encoded data removed]",
      "text/plain": [
       "<Figure size 720x432 with 1 Axes>"
      ]
     },
     "metadata": {
      "needs_background": "light"
     },
     "output_type": "display_data"
    },
    {
     "name": "stdout",
     "output_type": "stream",
     "text": [
      "Approximated Value: 10.96\n",
      "True Exp. Value: 10.55\n"
     ]
    }
   ],
   "source": [
    "iterations,sample=metropolis_convergence(6.1,100000,1000,30000)\n",
    "plt.figure(figsize=(10,6))\n",
    "plt.hist(sample, bins=1000, density=True)\n",
    "plt.plot(x, normpdf(x,mu_posterior,std_posterior),label='Posterior',color='red')\n",
    "plt.xlim(0,20)\n",
    "plt.legend()\n",
    "plt.title('Metropolis Posterior and Analytic Posterior')\n",
    "#plt.title('Empirical Exp. Value: %s\\nTrue Exp. Value: %s'%(round(np.mean(retained_samples), 2), round(np.mean(X), 2)), fontsize=20)\n",
    "plt.show()\n",
    "print('Approximated Value: %s\\nTrue Exp. Value: %s'%(round(np.mean(retained_samples), 2),round(np.mean(X), 2)))"
   ]
  },
  {
   "cell_type": "markdown",
   "id": "f5ce3527",
   "metadata": {},
   "source": [
    "#### Effects of early stopping:\n",
    "- When the algorithm has run for sufficient number of times(With very few samples the approximation is not reliable) and then checked for convergence, it gives satisfactory results."
   ]
  },
  {
   "cell_type": "markdown",
   "id": "38d4dbd1",
   "metadata": {},
   "source": [
    " *Below is an example of early stopping without sufficient number of samples:*"
   ]
  },
  {
   "cell_type": "code",
   "execution_count": 67,
   "id": "25e51f6a",
   "metadata": {},
   "outputs": [
    {
     "name": "stdout",
     "output_type": "stream",
     "text": [
      "converged at 5363 for width = 6.1\n"
     ]
    },
    {
     "data": {
      "image/png": "[encoded data removed]",
      "text/plain": [
       "<Figure size 720x432 with 1 Axes>"
      ]
     },
     "metadata": {
      "needs_background": "light"
     },
     "output_type": "display_data"
    }
   ],
   "source": [
    "iterations,sample=metropolis_convergence(6.1,100000,50,500)\n",
    "plt.figure(figsize=(10,6))\n",
    "plt.hist(sample, bins=900, density=True)\n",
    "plt.plot(x, normpdf(x,mu_posterior,std_posterior),label='Posterior',color='r')\n",
    "plt.xlim(0,20)\n",
    "plt.legend()\n",
    "plt.title('Metropolis Posterior and Analytic Posterior')\n",
    "#plt.title('Empirical Exp. Value: %s\\nTrue Exp. Value: %s'%(round(np.mean(retained_samples), 2), round(np.mean(X), 2)), fontsize=20)\n",
    "plt.show()\n"
   ]
  },
  {
   "cell_type": "markdown",
   "id": "ed139525",
   "metadata": {},
   "source": [
    "**Conclusion:** Early stopping when sufficient number of samples are not generated might not give the best results. So, it is better to set some burn in period and stop after a sufficient number of samples are witnessed by the algorithm. <br>\n"
   ]
  },
  {
   "cell_type": "markdown",
   "id": "ca2ebda6",
   "metadata": {},
   "source": [
    "*Kindly, re-run the code if some weird results are produced (like, no histogram gets plotted). This might happen once in a 100 times, because of random samples being generated* <br><br>"
   ]
  }
 ],
 "metadata": {
  "kernelspec": {
   "display_name": "Python 3 (ipykernel)",
   "language": "python",
   "name": "python3"
  },
  "language_info": {
   "codemirror_mode": {
    "name": "ipython",
    "version": 3
   },
   "file_extension": ".py",
   "mimetype": "text/x-python",
   "name": "python",
   "nbconvert_exporter": "python",
   "pygments_lexer": "ipython3",
   "version": "3.8.8"
  }
 },
 "nbformat": 4,
 "nbformat_minor": 5
}
