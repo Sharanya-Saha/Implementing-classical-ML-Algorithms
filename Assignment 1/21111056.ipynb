{
 "cells": [
  {
   "cell_type": "markdown",
   "id": "40c92f08",
   "metadata": {},
   "source": [
    "## Answer 1:\n",
    "### Task: To implement a k-nearest neighbors regression model\n",
    "Dataset used : Automobile Data Set from UCI repository"
   ]
  },
  {
   "cell_type": "code",
   "execution_count": 1,
   "id": "8b3f2f8b",
   "metadata": {},
   "outputs": [],
   "source": [
    "##importing the required libraries\n",
    "import numpy as np\n",
    "import pandas as pd\n",
    "import matplotlib.pyplot as plt"
   ]
  },
  {
   "cell_type": "markdown",
   "id": "d5ce6bf2",
   "metadata": {},
   "source": [
    "## Data Loading and Preprocessing:"
   ]
  },
  {
   "cell_type": "code",
   "execution_count": 3,
   "id": "48efec42",
   "metadata": {},
   "outputs": [],
   "source": [
    "#Loading the dataset into a dataframe\n",
    "na=['?']\n",
    "column_names=['symboling', 'normalized-losses', 'make', 'fuel-type', 'aspiration', 'num-of-doors', 'body-style', 'drive-wheels', 'engine-location', 'wheel-base',\n",
    "               'length', 'width', 'height', 'curb-weight', 'engine-type', ' num-of-cylinders', 'engine-size', 'fuel-system', 'bore', 'stroke', 'compression-ratio', 'horsepower',\n",
    "               'peak-rpm', 'city-mpg', 'highway-mpg', 'price']\n",
    "df=pd.read_csv('imports-85.data',header=None,na_values=na, names=column_names)\n"
   ]
  },
  {
   "cell_type": "code",
   "execution_count": 4,
   "id": "cec6f928",
   "metadata": {},
   "outputs": [
    {
     "name": "stdout",
     "output_type": "stream",
     "text": [
      "<class 'pandas.core.frame.DataFrame'>\n",
      "RangeIndex: 205 entries, 0 to 204\n",
      "Data columns (total 26 columns):\n",
      " #   Column             Non-Null Count  Dtype  \n",
      "---  ------             --------------  -----  \n",
      " 0   symboling          205 non-null    int64  \n",
      " 1   normalized-losses  164 non-null    float64\n",
      " 2   make               205 non-null    object \n",
      " 3   fuel-type          205 non-null    object \n",
      " 4   aspiration         205 non-null    object \n",
      " 5   num-of-doors       203 non-null    object \n",
      " 6   body-style         205 non-null    object \n",
      " 7   drive-wheels       205 non-null    object \n",
      " 8   engine-location    205 non-null    object \n",
      " 9   wheel-base         205 non-null    float64\n",
      " 10  length             205 non-null    float64\n",
      " 11  width              205 non-null    float64\n",
      " 12  height             205 non-null    float64\n",
      " 13  curb-weight        205 non-null    int64  \n",
      " 14  engine-type        205 non-null    object \n",
      " 15   num-of-cylinders  205 non-null    object \n",
      " 16  engine-size        205 non-null    int64  \n",
      " 17  fuel-system        205 non-null    object \n",
      " 18  bore               201 non-null    float64\n",
      " 19  stroke             201 non-null    float64\n",
      " 20  compression-ratio  205 non-null    float64\n",
      " 21  horsepower         203 non-null    float64\n",
      " 22  peak-rpm           203 non-null    float64\n",
      " 23  city-mpg           205 non-null    int64  \n",
      " 24  highway-mpg        205 non-null    int64  \n",
      " 25  price              201 non-null    float64\n",
      "dtypes: float64(11), int64(5), object(10)\n",
      "memory usage: 41.8+ KB\n"
     ]
    }
   ],
   "source": [
    "#dataset information\n",
    "df.info()  "
   ]
  },
  {
   "cell_type": "code",
   "execution_count": 5,
   "id": "781350be",
   "metadata": {},
   "outputs": [
    {
     "data": {
      "text/plain": [
       "symboling             0\n",
       "normalized-losses    41\n",
       "make                  0\n",
       "fuel-type             0\n",
       "aspiration            0\n",
       "num-of-doors          2\n",
       "body-style            0\n",
       "drive-wheels          0\n",
       "engine-location       0\n",
       "wheel-base            0\n",
       "length                0\n",
       "width                 0\n",
       "height                0\n",
       "curb-weight           0\n",
       "engine-type           0\n",
       " num-of-cylinders     0\n",
       "engine-size           0\n",
       "fuel-system           0\n",
       "bore                  4\n",
       "stroke                4\n",
       "compression-ratio     0\n",
       "horsepower            2\n",
       "peak-rpm              2\n",
       "city-mpg              0\n",
       "highway-mpg           0\n",
       "price                 4\n",
       "dtype: int64"
      ]
     },
     "execution_count": 5,
     "metadata": {},
     "output_type": "execute_result"
    }
   ],
   "source": [
    "#checking for NULL value\n",
    "df.isnull().sum()"
   ]
  },
  {
   "cell_type": "code",
   "execution_count": 6,
   "id": "b2080c81",
   "metadata": {},
   "outputs": [
    {
     "name": "stdout",
     "output_type": "stream",
     "text": [
      "Total Na values Left 2\n"
     ]
    }
   ],
   "source": [
    "#Replacing the NULL values with median of the data\n",
    "df.fillna(df.median(), inplace= True)\n",
    "print(f\"Total Na values Left {df.isna().sum().sum()}\")"
   ]
  },
  {
   "cell_type": "code",
   "execution_count": 7,
   "id": "f61b522e",
   "metadata": {},
   "outputs": [
    {
     "data": {
      "text/plain": [
       "symboling            0\n",
       "normalized-losses    0\n",
       "make                 0\n",
       "fuel-type            0\n",
       "aspiration           0\n",
       "num-of-doors         2\n",
       "body-style           0\n",
       "drive-wheels         0\n",
       "engine-location      0\n",
       "wheel-base           0\n",
       "length               0\n",
       "width                0\n",
       "height               0\n",
       "curb-weight          0\n",
       "engine-type          0\n",
       " num-of-cylinders    0\n",
       "engine-size          0\n",
       "fuel-system          0\n",
       "bore                 0\n",
       "stroke               0\n",
       "compression-ratio    0\n",
       "horsepower           0\n",
       "peak-rpm             0\n",
       "city-mpg             0\n",
       "highway-mpg          0\n",
       "price                0\n",
       "dtype: int64"
      ]
     },
     "execution_count": 7,
     "metadata": {},
     "output_type": "execute_result"
    }
   ],
   "source": [
    "df.isnull().sum()"
   ]
  },
  {
   "cell_type": "markdown",
   "id": "8247bb21",
   "metadata": {},
   "source": [
    "Only considering numerical features price prediction"
   ]
  },
  {
   "cell_type": "code",
   "execution_count": 8,
   "id": "21572c28",
   "metadata": {},
   "outputs": [
    {
     "data": {
      "text/html": [
       "<div>\n",
       "<style scoped>\n",
       "    .dataframe tbody tr th:only-of-type {\n",
       "        vertical-align: middle;\n",
       "    }\n",
       "\n",
       "    .dataframe tbody tr th {\n",
       "        vertical-align: top;\n",
       "    }\n",
       "\n",
       "    .dataframe thead th {\n",
       "        text-align: right;\n",
       "    }\n",
       "</style>\n",
       "<table border=\"1\" class=\"dataframe\">\n",
       "  <thead>\n",
       "    <tr style=\"text-align: right;\">\n",
       "      <th></th>\n",
       "      <th>normalized-losses</th>\n",
       "      <th>wheel-base</th>\n",
       "      <th>length</th>\n",
       "      <th>width</th>\n",
       "      <th>height</th>\n",
       "      <th>curb-weight</th>\n",
       "      <th>bore</th>\n",
       "      <th>stroke</th>\n",
       "      <th>compression-ratio</th>\n",
       "      <th>horsepower</th>\n",
       "      <th>peak-rpm</th>\n",
       "      <th>city-mpg</th>\n",
       "      <th>highway-mpg</th>\n",
       "      <th>price</th>\n",
       "    </tr>\n",
       "  </thead>\n",
       "  <tbody>\n",
       "    <tr>\n",
       "      <th>0</th>\n",
       "      <td>115.0</td>\n",
       "      <td>88.6</td>\n",
       "      <td>168.8</td>\n",
       "      <td>64.1</td>\n",
       "      <td>48.8</td>\n",
       "      <td>2548</td>\n",
       "      <td>3.47</td>\n",
       "      <td>2.68</td>\n",
       "      <td>9.0</td>\n",
       "      <td>111.0</td>\n",
       "      <td>5000.0</td>\n",
       "      <td>21</td>\n",
       "      <td>27</td>\n",
       "      <td>13495.0</td>\n",
       "    </tr>\n",
       "    <tr>\n",
       "      <th>1</th>\n",
       "      <td>115.0</td>\n",
       "      <td>88.6</td>\n",
       "      <td>168.8</td>\n",
       "      <td>64.1</td>\n",
       "      <td>48.8</td>\n",
       "      <td>2548</td>\n",
       "      <td>3.47</td>\n",
       "      <td>2.68</td>\n",
       "      <td>9.0</td>\n",
       "      <td>111.0</td>\n",
       "      <td>5000.0</td>\n",
       "      <td>21</td>\n",
       "      <td>27</td>\n",
       "      <td>16500.0</td>\n",
       "    </tr>\n",
       "    <tr>\n",
       "      <th>2</th>\n",
       "      <td>115.0</td>\n",
       "      <td>94.5</td>\n",
       "      <td>171.2</td>\n",
       "      <td>65.5</td>\n",
       "      <td>52.4</td>\n",
       "      <td>2823</td>\n",
       "      <td>2.68</td>\n",
       "      <td>3.47</td>\n",
       "      <td>9.0</td>\n",
       "      <td>154.0</td>\n",
       "      <td>5000.0</td>\n",
       "      <td>19</td>\n",
       "      <td>26</td>\n",
       "      <td>16500.0</td>\n",
       "    </tr>\n",
       "    <tr>\n",
       "      <th>3</th>\n",
       "      <td>164.0</td>\n",
       "      <td>99.8</td>\n",
       "      <td>176.6</td>\n",
       "      <td>66.2</td>\n",
       "      <td>54.3</td>\n",
       "      <td>2337</td>\n",
       "      <td>3.19</td>\n",
       "      <td>3.40</td>\n",
       "      <td>10.0</td>\n",
       "      <td>102.0</td>\n",
       "      <td>5500.0</td>\n",
       "      <td>24</td>\n",
       "      <td>30</td>\n",
       "      <td>13950.0</td>\n",
       "    </tr>\n",
       "    <tr>\n",
       "      <th>4</th>\n",
       "      <td>164.0</td>\n",
       "      <td>99.4</td>\n",
       "      <td>176.6</td>\n",
       "      <td>66.4</td>\n",
       "      <td>54.3</td>\n",
       "      <td>2824</td>\n",
       "      <td>3.19</td>\n",
       "      <td>3.40</td>\n",
       "      <td>8.0</td>\n",
       "      <td>115.0</td>\n",
       "      <td>5500.0</td>\n",
       "      <td>18</td>\n",
       "      <td>22</td>\n",
       "      <td>17450.0</td>\n",
       "    </tr>\n",
       "  </tbody>\n",
       "</table>\n",
       "</div>"
      ],
      "text/plain": [
       "   normalized-losses  wheel-base  length  width  height  curb-weight  bore  \\\n",
       "0              115.0        88.6   168.8   64.1    48.8         2548  3.47   \n",
       "1              115.0        88.6   168.8   64.1    48.8         2548  3.47   \n",
       "2              115.0        94.5   171.2   65.5    52.4         2823  2.68   \n",
       "3              164.0        99.8   176.6   66.2    54.3         2337  3.19   \n",
       "4              164.0        99.4   176.6   66.4    54.3         2824  3.19   \n",
       "\n",
       "   stroke  compression-ratio  horsepower  peak-rpm  city-mpg  highway-mpg  \\\n",
       "0    2.68                9.0       111.0    5000.0        21           27   \n",
       "1    2.68                9.0       111.0    5000.0        21           27   \n",
       "2    3.47                9.0       154.0    5000.0        19           26   \n",
       "3    3.40               10.0       102.0    5500.0        24           30   \n",
       "4    3.40                8.0       115.0    5500.0        18           22   \n",
       "\n",
       "     price  \n",
       "0  13495.0  \n",
       "1  16500.0  \n",
       "2  16500.0  \n",
       "3  13950.0  \n",
       "4  17450.0  "
      ]
     },
     "execution_count": 8,
     "metadata": {},
     "output_type": "execute_result"
    }
   ],
   "source": [
    "numeric_features = ['normalized-losses', 'wheel-base', 'length', 'width', \n",
    "                      'height', 'curb-weight', 'bore', 'stroke', 'compression-ratio', \n",
    "                      'horsepower', 'peak-rpm', 'city-mpg', 'highway-mpg', 'price']\n",
    "df=df[numeric_features].copy()\n",
    "df.head()"
   ]
  },
  {
   "cell_type": "code",
   "execution_count": 9,
   "id": "8446a621",
   "metadata": {},
   "outputs": [
    {
     "data": {
      "text/plain": [
       "normalized-losses    0\n",
       "wheel-base           0\n",
       "length               0\n",
       "width                0\n",
       "height               0\n",
       "curb-weight          0\n",
       "bore                 0\n",
       "stroke               0\n",
       "compression-ratio    0\n",
       "horsepower           0\n",
       "peak-rpm             0\n",
       "city-mpg             0\n",
       "highway-mpg          0\n",
       "price                0\n",
       "dtype: int64"
      ]
     },
     "execution_count": 9,
     "metadata": {},
     "output_type": "execute_result"
    }
   ],
   "source": [
    "#checking for NULL values in the dataframe\n",
    "df.isnull().sum()"
   ]
  },
  {
   "cell_type": "code",
   "execution_count": 10,
   "id": "5d6a02a8",
   "metadata": {},
   "outputs": [
    {
     "data": {
      "text/plain": [
       "normalized-losses    float64\n",
       "wheel-base           float64\n",
       "length               float64\n",
       "width                float64\n",
       "height               float64\n",
       "curb-weight            int64\n",
       "bore                 float64\n",
       "stroke               float64\n",
       "compression-ratio    float64\n",
       "horsepower           float64\n",
       "peak-rpm             float64\n",
       "city-mpg               int64\n",
       "highway-mpg            int64\n",
       "price                float64\n",
       "dtype: object"
      ]
     },
     "execution_count": 10,
     "metadata": {},
     "output_type": "execute_result"
    }
   ],
   "source": [
    "#checking the datatype of each feature\n",
    "df.dtypes"
   ]
  },
  {
   "cell_type": "code",
   "execution_count": 11,
   "id": "98d19b50",
   "metadata": {},
   "outputs": [
    {
     "data": {
      "text/html": [
       "<div>\n",
       "<style scoped>\n",
       "    .dataframe tbody tr th:only-of-type {\n",
       "        vertical-align: middle;\n",
       "    }\n",
       "\n",
       "    .dataframe tbody tr th {\n",
       "        vertical-align: top;\n",
       "    }\n",
       "\n",
       "    .dataframe thead th {\n",
       "        text-align: right;\n",
       "    }\n",
       "</style>\n",
       "<table border=\"1\" class=\"dataframe\">\n",
       "  <thead>\n",
       "    <tr style=\"text-align: right;\">\n",
       "      <th></th>\n",
       "      <th>normalized-losses</th>\n",
       "      <th>wheel-base</th>\n",
       "      <th>length</th>\n",
       "      <th>width</th>\n",
       "      <th>height</th>\n",
       "      <th>curb-weight</th>\n",
       "      <th>bore</th>\n",
       "      <th>stroke</th>\n",
       "      <th>compression-ratio</th>\n",
       "      <th>horsepower</th>\n",
       "      <th>peak-rpm</th>\n",
       "      <th>city-mpg</th>\n",
       "      <th>highway-mpg</th>\n",
       "      <th>price</th>\n",
       "    </tr>\n",
       "  </thead>\n",
       "  <tbody>\n",
       "    <tr>\n",
       "      <th>0</th>\n",
       "      <td>-0.176072</td>\n",
       "      <td>-1.686643</td>\n",
       "      <td>-0.425480</td>\n",
       "      <td>-0.842719</td>\n",
       "      <td>-2.015483</td>\n",
       "      <td>-0.014531</td>\n",
       "      <td>0.519218</td>\n",
       "      <td>-1.836849</td>\n",
       "      <td>-0.287645</td>\n",
       "      <td>0.172886</td>\n",
       "      <td>-0.264336</td>\n",
       "      <td>-0.644974</td>\n",
       "      <td>-0.544725</td>\n",
       "      <td>13495.0</td>\n",
       "    </tr>\n",
       "    <tr>\n",
       "      <th>1</th>\n",
       "      <td>-0.176072</td>\n",
       "      <td>-1.686643</td>\n",
       "      <td>-0.425480</td>\n",
       "      <td>-0.842719</td>\n",
       "      <td>-2.015483</td>\n",
       "      <td>-0.014531</td>\n",
       "      <td>0.519218</td>\n",
       "      <td>-1.836849</td>\n",
       "      <td>-0.287645</td>\n",
       "      <td>0.172886</td>\n",
       "      <td>-0.264336</td>\n",
       "      <td>-0.644974</td>\n",
       "      <td>-0.544725</td>\n",
       "      <td>16500.0</td>\n",
       "    </tr>\n",
       "    <tr>\n",
       "      <th>2</th>\n",
       "      <td>-0.176072</td>\n",
       "      <td>-0.706865</td>\n",
       "      <td>-0.230948</td>\n",
       "      <td>-0.190101</td>\n",
       "      <td>-0.542200</td>\n",
       "      <td>0.513625</td>\n",
       "      <td>-2.397444</td>\n",
       "      <td>0.682014</td>\n",
       "      <td>-0.287645</td>\n",
       "      <td>1.260675</td>\n",
       "      <td>-0.264336</td>\n",
       "      <td>-0.950684</td>\n",
       "      <td>-0.689938</td>\n",
       "      <td>16500.0</td>\n",
       "    </tr>\n",
       "    <tr>\n",
       "      <th>3</th>\n",
       "      <td>1.364561</td>\n",
       "      <td>0.173274</td>\n",
       "      <td>0.206750</td>\n",
       "      <td>0.136209</td>\n",
       "      <td>0.235366</td>\n",
       "      <td>-0.419770</td>\n",
       "      <td>-0.514536</td>\n",
       "      <td>0.458823</td>\n",
       "      <td>-0.035885</td>\n",
       "      <td>-0.054790</td>\n",
       "      <td>0.783804</td>\n",
       "      <td>-0.186409</td>\n",
       "      <td>-0.109087</td>\n",
       "      <td>13950.0</td>\n",
       "    </tr>\n",
       "    <tr>\n",
       "      <th>4</th>\n",
       "      <td>1.364561</td>\n",
       "      <td>0.106848</td>\n",
       "      <td>0.206750</td>\n",
       "      <td>0.229440</td>\n",
       "      <td>0.235366</td>\n",
       "      <td>0.515545</td>\n",
       "      <td>-0.514536</td>\n",
       "      <td>0.458823</td>\n",
       "      <td>-0.539405</td>\n",
       "      <td>0.274076</td>\n",
       "      <td>0.783804</td>\n",
       "      <td>-1.103540</td>\n",
       "      <td>-1.270789</td>\n",
       "      <td>17450.0</td>\n",
       "    </tr>\n",
       "  </tbody>\n",
       "</table>\n",
       "</div>"
      ],
      "text/plain": [
       "   normalized-losses  wheel-base    length     width    height  curb-weight  \\\n",
       "0          -0.176072   -1.686643 -0.425480 -0.842719 -2.015483    -0.014531   \n",
       "1          -0.176072   -1.686643 -0.425480 -0.842719 -2.015483    -0.014531   \n",
       "2          -0.176072   -0.706865 -0.230948 -0.190101 -0.542200     0.513625   \n",
       "3           1.364561    0.173274  0.206750  0.136209  0.235366    -0.419770   \n",
       "4           1.364561    0.106848  0.206750  0.229440  0.235366     0.515545   \n",
       "\n",
       "       bore    stroke  compression-ratio  horsepower  peak-rpm  city-mpg  \\\n",
       "0  0.519218 -1.836849          -0.287645    0.172886 -0.264336 -0.644974   \n",
       "1  0.519218 -1.836849          -0.287645    0.172886 -0.264336 -0.644974   \n",
       "2 -2.397444  0.682014          -0.287645    1.260675 -0.264336 -0.950684   \n",
       "3 -0.514536  0.458823          -0.035885   -0.054790  0.783804 -0.186409   \n",
       "4 -0.514536  0.458823          -0.539405    0.274076  0.783804 -1.103540   \n",
       "\n",
       "   highway-mpg    price  \n",
       "0    -0.544725  13495.0  \n",
       "1    -0.544725  16500.0  \n",
       "2    -0.689938  16500.0  \n",
       "3    -0.109087  13950.0  \n",
       "4    -1.270789  17450.0  "
      ]
     },
     "execution_count": 11,
     "metadata": {},
     "output_type": "execute_result"
    }
   ],
   "source": [
    "#Normalizing the feature values \n",
    "df_normalised = (df - df.mean())/(df.std())\n",
    "#Price is to be predicted so replacing it with original values\n",
    "df_normalised['price']=df['price']\n",
    "df_normalised.head()"
   ]
  },
  {
   "cell_type": "code",
   "execution_count": 12,
   "id": "d77a1981",
   "metadata": {},
   "outputs": [],
   "source": [
    "X = df_normalised.drop(['price'],axis=1).values\n",
    "y=df_normalised['price'].values"
   ]
  },
  {
   "cell_type": "markdown",
   "id": "1d47c600",
   "metadata": {},
   "source": [
    "### Splitting the dataset into train and test set"
   ]
  },
  {
   "cell_type": "code",
   "execution_count": 13,
   "id": "c8a393b5",
   "metadata": {},
   "outputs": [
    {
     "data": {
      "text/plain": [
       "array([ 98,  24,  23, 193, 104,  64,   0,  52, 183, 141, 135,   8,  74,\n",
       "       112, 174, 127,  59,  35,  18, 126, 159, 186,  72,  56, 196, 171,\n",
       "        51,  92,  77,  42,  86,  13,  10, 117, 149, 198, 125, 136, 158,\n",
       "        28,   4, 111,  22, 108, 137,  58, 130,   2, 173, 139,  14, 148,\n",
       "        79, 188,  36, 118, 146, 153,  55,  31,  43,  99, 172, 162, 177,\n",
       "       133, 201,  66,  34,  76,  45,   6,  80,  30,  73,  65,  68, 169,\n",
       "        75,  12, 129, 145,  81, 168,  69, 163, 122, 199,  88, 179,  97,\n",
       "        15, 170, 204, 105,  83,  41, 155, 181,  46, 202,   3,  16,  67,\n",
       "        39, 132,  29, 134,  96, 184,  61, 185,  48,  95,  37, 192, 189,\n",
       "       182, 150,  60,  91,  47,  26, 175, 197, 161, 156,  90, 113,  38,\n",
       "       167, 191, 115,  20, 121, 107, 131,  87,  32, 164, 151,  50, 160,\n",
       "        84, 165, 103, 100,   9, 119,  27, 187,  89,  17,  78, 147,  11,\n",
       "        53,  40, 143,  82,  19, 106, 200, 138, 114,  25, 195, 190, 203,\n",
       "        71, 142, 166, 180,   5, 120, 194, 123,  54, 178, 144,  49,  63,\n",
       "       176, 154, 124, 110,   1,   7, 101,  33,  70, 102, 140, 152,  93,\n",
       "        21, 157,  62,  44,  94, 109, 128,  57,  85, 116])"
      ]
     },
     "execution_count": 13,
     "metadata": {},
     "output_type": "execute_result"
    }
   ],
   "source": [
    "shuffled_idx = np.random.RandomState(seed=2021).permutation(np.arange(X.shape[0]))\n",
    "shuffled_idx"
   ]
  },
  {
   "cell_type": "code",
   "execution_count": 14,
   "id": "335bd79f",
   "metadata": {},
   "outputs": [],
   "source": [
    "test_ratio = 0.2\n",
    "split_idx = int(X.shape[0]*(1-test_ratio))\n",
    "train_idx, test_idx = shuffled_idx[:split_idx], shuffled_idx[split_idx:]"
   ]
  },
  {
   "cell_type": "code",
   "execution_count": 15,
   "id": "c2fe826d",
   "metadata": {},
   "outputs": [],
   "source": [
    "x_train, x_test, y_train, y_test = X[train_idx], X[test_idx], y[train_idx], y[test_idx]"
   ]
  },
  {
   "cell_type": "markdown",
   "id": "9425a165",
   "metadata": {},
   "source": [
    "### Further splitting the train set for cross validation"
   ]
  },
  {
   "cell_type": "code",
   "execution_count": 16,
   "id": "061a7a83",
   "metadata": {},
   "outputs": [
    {
     "data": {
      "text/plain": [
       "array([138,  75,  21, 118, 146,  49, 123,  70, 151, 159,  34, 154,  15,\n",
       "       113,  40,  80,  30,  83,  93,  84,  17,  56, 129, 158, 131,  25,\n",
       "        37,  26,  76, 115, 134,  44,   4,   5,  14,  79,  35,  98, 144,\n",
       "        88, 101, 161,  19,  82,  52,  46,  23,  10,  24,  16,  81,  89,\n",
       "        71, 140, 124,  87,   6, 147,  78,  72,  32, 106,  38, 143, 148,\n",
       "         9,  68, 116,  51,  99, 135,  47,  85, 141,  67,   3,  58, 105,\n",
       "       100,  20,   2, 117, 108,  62, 130, 109,  50, 122,  92,  12,  64,\n",
       "       125, 163,  33,   1, 120,  65,  45, 156, 107, 150,  29, 112, 157,\n",
       "       103,  63, 152, 121,  59, 149, 142,  22,  77,  43,   0,  55, 162,\n",
       "        13,  94,  53, 104,  48,   7, 155,  90, 139,  18,   8, 126, 133,\n",
       "       137,  57, 132, 145,  61,  69, 119,  86, 160,  97,  31,  42, 102,\n",
       "        73, 114,  54,  39,  91,  28,  11, 153,  95, 110, 111,  66,  74,\n",
       "        60, 127,  41,  36,  27, 128,  96, 136])"
      ]
     },
     "execution_count": 16,
     "metadata": {},
     "output_type": "execute_result"
    }
   ],
   "source": [
    "shuffled_idx = np.random.RandomState(seed=2024).permutation(np.arange(x_train.shape[0]))\n",
    "shuffled_idx"
   ]
  },
  {
   "cell_type": "code",
   "execution_count": 17,
   "id": "3c8932c3",
   "metadata": {},
   "outputs": [],
   "source": [
    "val_ratio = 0.2\n",
    "split_idx = int(x_train.shape[0]*(1-val_ratio))\n",
    "train_idxs, val_idx = shuffled_idx[:split_idx], shuffled_idx[split_idx:]"
   ]
  },
  {
   "cell_type": "code",
   "execution_count": 18,
   "id": "3ad3fffd",
   "metadata": {},
   "outputs": [],
   "source": [
    "x_trains, x_val, y_trains, y_val = x_train[train_idxs], x_train[val_idx], y_train[train_idxs], y_train[val_idx]"
   ]
  },
  {
   "cell_type": "code",
   "execution_count": 19,
   "id": "b22d06d7",
   "metadata": {},
   "outputs": [
    {
     "data": {
      "text/plain": [
       "(131, 13)"
      ]
     },
     "execution_count": 19,
     "metadata": {},
     "output_type": "execute_result"
    }
   ],
   "source": [
    "x_trains.shape"
   ]
  },
  {
   "cell_type": "code",
   "execution_count": 20,
   "id": "9e62ebd1",
   "metadata": {},
   "outputs": [
    {
     "data": {
      "text/plain": [
       "(33, 13)"
      ]
     },
     "execution_count": 20,
     "metadata": {},
     "output_type": "execute_result"
    }
   ],
   "source": [
    "x_val.shape"
   ]
  },
  {
   "cell_type": "code",
   "execution_count": 21,
   "id": "1a66ecf7",
   "metadata": {},
   "outputs": [
    {
     "data": {
      "text/plain": [
       "(41, 13)"
      ]
     },
     "execution_count": 21,
     "metadata": {},
     "output_type": "execute_result"
    }
   ],
   "source": [
    "x_test.shape"
   ]
  },
  {
   "cell_type": "markdown",
   "id": "d4eb5790",
   "metadata": {},
   "source": [
    "## Implementation of the KNN Regression Model :\n",
    "Euclidean distance and Manhattan distances are used for calculating the distance between two points.\n",
    "\n",
    "Euclidean distance can be calculated using :"
   ]
  },
  {
   "cell_type": "markdown",
   "id": "dceec8d1",
   "metadata": {},
   "source": [
    "$$ d(p,q) = (\\sum \\limits_{i=1}^{n} ( p_{i} - q_{i} )^{2})^{1/2} $$"
   ]
  },
  {
   "cell_type": "markdown",
   "id": "09a8c6d9",
   "metadata": {},
   "source": [
    "                               where, p,q = points in Eucludian n-space\n"
   ]
  },
  {
   "cell_type": "markdown",
   "id": "763beab8",
   "metadata": {},
   "source": [
    "Manhattan distance can be calculated using :"
   ]
  },
  {
   "cell_type": "markdown",
   "id": "ae20a560",
   "metadata": {},
   "source": [
    "$$ d(p,q) = (\\sum \\limits_{i=1}^{n} | p_{i} - q_{i} | $$"
   ]
  },
  {
   "cell_type": "markdown",
   "id": "37f906e7",
   "metadata": {},
   "source": [
    "                             where, p,q = points in Eucludian n-space"
   ]
  },
  {
   "cell_type": "code",
   "execution_count": 22,
   "id": "3663caec",
   "metadata": {},
   "outputs": [],
   "source": [
    "def optimal_k(k,x_set,y_set,p=2) :\n",
    "    y_pred=[]\n",
    "    for x in x_set :\n",
    "        dist = np.power(np.power(np.abs(x_trains - x), p).sum(axis=1), 1/p)\n",
    "        sorted_idxs = np.argsort(dist)\n",
    "        idxs = sorted_idxs[:k]\n",
    "        ys=[]\n",
    "        for idx in idxs:\n",
    "            ys.append(float(y_trains[idx]))\n",
    "        y_pred.append(sum(ys)/k)\n",
    "    return(np.sqrt(((y_pred- y_set) ** 2).mean()))"
   ]
  },
  {
   "cell_type": "markdown",
   "id": "11a34954",
   "metadata": {},
   "source": [
    "### Finding the optimal value of k using cross validation :"
   ]
  },
  {
   "cell_type": "code",
   "execution_count": 23,
   "id": "d6cd08ab",
   "metadata": {},
   "outputs": [
    {
     "data": {
      "image/png": "[encoded data removed]",
      "text/plain": [
       "<Figure size 432x288 with 1 Axes>"
      ]
     },
     "metadata": {
      "needs_background": "light"
     },
     "output_type": "display_data"
    }
   ],
   "source": [
    "error_manhattan=[]\n",
    "error_euclidean=[]\n",
    "for i in range(1,10) :\n",
    "    error_euclidean.append(optimal_k(i,x_val,y_val,2))\n",
    "    error_manhattan.append(optimal_k(i,x_val,y_val,1))\n",
    "error_euclidean.insert(0,0)\n",
    "error_manhattan.insert(0,0)\n",
    "plt.xlim([0.8,8])\n",
    "plt.ylim([3000,6000])\n",
    "plt.plot(error_euclidean)\n",
    "plt.plot(error_manhattan)\n",
    "plt.xlabel(\"k\")\n",
    "plt.ylabel(\"RMSE\")\n",
    "plt.legend(['Eulidean Distance', 'Manhattan Distance'])\n",
    "plt.show()\n"
   ]
  },
  {
   "cell_type": "markdown",
   "id": "0ac12ff4",
   "metadata": {},
   "source": [
    "From the above plot it is visible that for Manhattan distance the optimal value of k is 4\n",
    "\n",
    "For Euclidean distance the optimal value of k is 3"
   ]
  },
  {
   "cell_type": "code",
   "execution_count": 24,
   "id": "8c623f73",
   "metadata": {},
   "outputs": [
    {
     "name": "stdout",
     "output_type": "stream",
     "text": [
      "RMSE for Euclidean distance at k = 3 : 4436\n"
     ]
    }
   ],
   "source": [
    "print(\"RMSE for Euclidean distance at k = 3 : {0:.0f}\".format(optimal_k(3,x_val,y_val,2)))"
   ]
  },
  {
   "cell_type": "code",
   "execution_count": 25,
   "id": "7393f260",
   "metadata": {},
   "outputs": [
    {
     "name": "stdout",
     "output_type": "stream",
     "text": [
      "RMSE for Manhattan distance at k = 4 : 4041\n"
     ]
    }
   ],
   "source": [
    "print(\"RMSE for Manhattan distance at k = 4 : {0:.0f}\".format(optimal_k(4,x_val,y_val,1)))"
   ]
  },
  {
   "cell_type": "markdown",
   "id": "91e1d424",
   "metadata": {},
   "source": [
    "### RMSE in test set using the optimal value of k"
   ]
  },
  {
   "cell_type": "code",
   "execution_count": 26,
   "id": "0abb4146",
   "metadata": {},
   "outputs": [
    {
     "name": "stdout",
     "output_type": "stream",
     "text": [
      "RMSE for Manhattan distance at k = 4 : 3625\n"
     ]
    }
   ],
   "source": [
    "print(\"RMSE for Manhattan distance at k = 4 : {0:.0f}\".format(optimal_k(4,x_test,y_test,1)))"
   ]
  },
  {
   "cell_type": "code",
   "execution_count": 27,
   "id": "1d7f9ae0",
   "metadata": {},
   "outputs": [
    {
     "name": "stdout",
     "output_type": "stream",
     "text": [
      "RMSE for Euclidean distance at k = 3 : 3345\n"
     ]
    }
   ],
   "source": [
    "print(\"RMSE for Euclidean distance at k = 3 : {0:.0f}\".format(optimal_k(3,x_test,y_test,2)))"
   ]
  },
  {
   "cell_type": "markdown",
   "id": "2817e1b7",
   "metadata": {},
   "source": [
    "### Final Result\n",
    "The RMSE in test set is 3023 at k = 3 for Manhattan Distance\n",
    "The RMSE in test set is 3680 at k = 4 for Euclidean Distance"
   ]
  },
  {
   "cell_type": "markdown",
   "id": "def04566",
   "metadata": {},
   "source": [
    "### LO Regularization:\n",
    "As per my understanding, L0 regularization attempts to find the best possible subset of features for \n",
    "which the RMSE is minimum.\n",
    "All the features which are used in the above problem to predict the price might not have the same influence \n",
    "on price. Removing the unnecessary features may give better results.\n",
    "\n",
    "Therefore, introducing L0 regularization in the above model can improve the results."
   ]
  },
  {
   "cell_type": "markdown",
   "id": "fa3b29f1",
   "metadata": {},
   "source": [
    "## Answer 2:\n",
    "### Task: To classify the salary into two classes i.e '<=50K' and '>50K' using a decision tree\n",
    "Dataset used : Census income dataset from UCI repository"
   ]
  },
  {
   "cell_type": "code",
   "execution_count": 28,
   "id": "ba9186b6",
   "metadata": {},
   "outputs": [],
   "source": [
    "#importing the required libraries\n",
    "import numpy as np\n",
    "import pandas as pd\n",
    "import matplotlib.pyplot as plt"
   ]
  },
  {
   "cell_type": "markdown",
   "id": "2581dbf3",
   "metadata": {},
   "source": [
    "### Data Preprocessing\n",
    "The dataset is imported to Dataframe and data preprocessing is perfomed."
   ]
  },
  {
   "cell_type": "code",
   "execution_count": 29,
   "id": "22f1cad7",
   "metadata": {},
   "outputs": [
    {
     "data": {
      "text/html": [
       "<div>\n",
       "<style scoped>\n",
       "    .dataframe tbody tr th:only-of-type {\n",
       "        vertical-align: middle;\n",
       "    }\n",
       "\n",
       "    .dataframe tbody tr th {\n",
       "        vertical-align: top;\n",
       "    }\n",
       "\n",
       "    .dataframe thead th {\n",
       "        text-align: right;\n",
       "    }\n",
       "</style>\n",
       "<table border=\"1\" class=\"dataframe\">\n",
       "  <thead>\n",
       "    <tr style=\"text-align: right;\">\n",
       "      <th></th>\n",
       "      <th>age</th>\n",
       "      <th>workclass</th>\n",
       "      <th>fnlwgt</th>\n",
       "      <th>education</th>\n",
       "      <th>education-num</th>\n",
       "      <th>marital-status</th>\n",
       "      <th>occupation</th>\n",
       "      <th>relationship</th>\n",
       "      <th>race</th>\n",
       "      <th>sex</th>\n",
       "      <th>capital-gain</th>\n",
       "      <th>capital-loss</th>\n",
       "      <th>hours-per-week</th>\n",
       "      <th>native-country</th>\n",
       "      <th>salary</th>\n",
       "    </tr>\n",
       "  </thead>\n",
       "  <tbody>\n",
       "    <tr>\n",
       "      <th>0</th>\n",
       "      <td>39</td>\n",
       "      <td>State-gov</td>\n",
       "      <td>77516</td>\n",
       "      <td>Bachelors</td>\n",
       "      <td>13</td>\n",
       "      <td>Never-married</td>\n",
       "      <td>Adm-clerical</td>\n",
       "      <td>Not-in-family</td>\n",
       "      <td>White</td>\n",
       "      <td>Male</td>\n",
       "      <td>2174</td>\n",
       "      <td>0</td>\n",
       "      <td>40</td>\n",
       "      <td>United-States</td>\n",
       "      <td>&lt;=50K</td>\n",
       "    </tr>\n",
       "    <tr>\n",
       "      <th>1</th>\n",
       "      <td>50</td>\n",
       "      <td>Self-emp-not-inc</td>\n",
       "      <td>83311</td>\n",
       "      <td>Bachelors</td>\n",
       "      <td>13</td>\n",
       "      <td>Married-civ-spouse</td>\n",
       "      <td>Exec-managerial</td>\n",
       "      <td>Husband</td>\n",
       "      <td>White</td>\n",
       "      <td>Male</td>\n",
       "      <td>0</td>\n",
       "      <td>0</td>\n",
       "      <td>13</td>\n",
       "      <td>United-States</td>\n",
       "      <td>&lt;=50K</td>\n",
       "    </tr>\n",
       "    <tr>\n",
       "      <th>2</th>\n",
       "      <td>38</td>\n",
       "      <td>Private</td>\n",
       "      <td>215646</td>\n",
       "      <td>HS-grad</td>\n",
       "      <td>9</td>\n",
       "      <td>Divorced</td>\n",
       "      <td>Handlers-cleaners</td>\n",
       "      <td>Not-in-family</td>\n",
       "      <td>White</td>\n",
       "      <td>Male</td>\n",
       "      <td>0</td>\n",
       "      <td>0</td>\n",
       "      <td>40</td>\n",
       "      <td>United-States</td>\n",
       "      <td>&lt;=50K</td>\n",
       "    </tr>\n",
       "    <tr>\n",
       "      <th>3</th>\n",
       "      <td>53</td>\n",
       "      <td>Private</td>\n",
       "      <td>234721</td>\n",
       "      <td>11th</td>\n",
       "      <td>7</td>\n",
       "      <td>Married-civ-spouse</td>\n",
       "      <td>Handlers-cleaners</td>\n",
       "      <td>Husband</td>\n",
       "      <td>Black</td>\n",
       "      <td>Male</td>\n",
       "      <td>0</td>\n",
       "      <td>0</td>\n",
       "      <td>40</td>\n",
       "      <td>United-States</td>\n",
       "      <td>&lt;=50K</td>\n",
       "    </tr>\n",
       "    <tr>\n",
       "      <th>4</th>\n",
       "      <td>28</td>\n",
       "      <td>Private</td>\n",
       "      <td>338409</td>\n",
       "      <td>Bachelors</td>\n",
       "      <td>13</td>\n",
       "      <td>Married-civ-spouse</td>\n",
       "      <td>Prof-specialty</td>\n",
       "      <td>Wife</td>\n",
       "      <td>Black</td>\n",
       "      <td>Female</td>\n",
       "      <td>0</td>\n",
       "      <td>0</td>\n",
       "      <td>40</td>\n",
       "      <td>Cuba</td>\n",
       "      <td>&lt;=50K</td>\n",
       "    </tr>\n",
       "  </tbody>\n",
       "</table>\n",
       "</div>"
      ],
      "text/plain": [
       "   age          workclass  fnlwgt   education  education-num  \\\n",
       "0   39          State-gov   77516   Bachelors             13   \n",
       "1   50   Self-emp-not-inc   83311   Bachelors             13   \n",
       "2   38            Private  215646     HS-grad              9   \n",
       "3   53            Private  234721        11th              7   \n",
       "4   28            Private  338409   Bachelors             13   \n",
       "\n",
       "        marital-status          occupation    relationship    race      sex  \\\n",
       "0        Never-married        Adm-clerical   Not-in-family   White     Male   \n",
       "1   Married-civ-spouse     Exec-managerial         Husband   White     Male   \n",
       "2             Divorced   Handlers-cleaners   Not-in-family   White     Male   \n",
       "3   Married-civ-spouse   Handlers-cleaners         Husband   Black     Male   \n",
       "4   Married-civ-spouse      Prof-specialty            Wife   Black   Female   \n",
       "\n",
       "   capital-gain  capital-loss  hours-per-week  native-country  salary  \n",
       "0          2174             0              40   United-States   <=50K  \n",
       "1             0             0              13   United-States   <=50K  \n",
       "2             0             0              40   United-States   <=50K  \n",
       "3             0             0              40   United-States   <=50K  \n",
       "4             0             0              40            Cuba   <=50K  "
      ]
     },
     "execution_count": 29,
     "metadata": {},
     "output_type": "execute_result"
    }
   ],
   "source": [
    "na=[' ?']\n",
    "column_names=['age','workclass','fnlwgt','education','education-num','marital-status','occupation','relationship','race','sex','capital-gain','capital-loss','hours-per-week','native-country','salary']\n",
    "df=pd.read_csv('adult.data',header=None,na_values=na, names=column_names,index_col=False)\n",
    "df.head()"
   ]
  },
  {
   "cell_type": "code",
   "execution_count": 30,
   "id": "bb03948f",
   "metadata": {},
   "outputs": [
    {
     "data": {
      "text/plain": [
       "age                  0\n",
       "workclass         1836\n",
       "fnlwgt               0\n",
       "education            0\n",
       "education-num        0\n",
       "marital-status       0\n",
       "occupation        1843\n",
       "relationship         0\n",
       "race                 0\n",
       "sex                  0\n",
       "capital-gain         0\n",
       "capital-loss         0\n",
       "hours-per-week       0\n",
       "native-country     583\n",
       "salary               0\n",
       "dtype: int64"
      ]
     },
     "execution_count": 30,
     "metadata": {},
     "output_type": "execute_result"
    }
   ],
   "source": [
    "#checking the number of NULL values in the data\n",
    "df.isna().sum()"
   ]
  },
  {
   "cell_type": "markdown",
   "id": "09852a2a",
   "metadata": {},
   "source": [
    "---\n",
    "workclass, occupation and native-country are categorical features, the NULL values are replaced by mode.\n",
    "In the salary column '<=50K'is replaced with -1 and '>50K' is replaced with +1\n",
    "So, essentially there will be two classes -1 and +1.\n",
    "Few categorical features are also replaced\n"
   ]
  },
  {
   "cell_type": "code",
   "execution_count": 31,
   "id": "ae2ed73a",
   "metadata": {},
   "outputs": [
    {
     "name": "stdout",
     "output_type": "stream",
     "text": [
      "Total Na values Left: 0\n"
     ]
    }
   ],
   "source": [
    "df.fillna(df.mode().loc[0], inplace= True)\n",
    "print(f\"Total Na values Left: {df.isna().sum().sum()}\")"
   ]
  },
  {
   "cell_type": "code",
   "execution_count": 32,
   "id": "7429d7cf",
   "metadata": {},
   "outputs": [],
   "source": [
    "df['salary'].replace(' <=50K',-1,inplace=True)\n",
    "df['salary'].replace(' >50K',+1,inplace=True)\n",
    "df['sex'].replace(' Male',0,inplace=True)\n",
    "df['sex'].replace(' Female',1,inplace=True)\n",
    "df['race'].replace(' White',0,inplace=True)\n",
    "df['race'].replace(' Black',1,inplace=True)\n",
    "df['race'].replace(' Asian-Pac-Islander',2,inplace=True)\n",
    "df['race'].replace(' Amer-Indian-Eskimo',3,inplace=True)\n",
    "df['race'].replace(' Other',4,inplace=True)\n",
    "df['relationship'].replace(' Not-in-family',0,inplace=True)\n",
    "df['relationship'].replace(' Husband',1,inplace=True)\n",
    "df['relationship'].replace(' Wife',2,inplace=True)\n",
    "df['relationship'].replace(' Own-child',3,inplace=True)\n",
    "df['relationship'].replace(' Unmarried',4,inplace=True)\n",
    "df['relationship'].replace(' Other-relative',5,inplace=True)"
   ]
  },
  {
   "cell_type": "code",
   "execution_count": 33,
   "id": "f8392b46",
   "metadata": {},
   "outputs": [
    {
     "data": {
      "text/html": [
       "<div>\n",
       "<style scoped>\n",
       "    .dataframe tbody tr th:only-of-type {\n",
       "        vertical-align: middle;\n",
       "    }\n",
       "\n",
       "    .dataframe tbody tr th {\n",
       "        vertical-align: top;\n",
       "    }\n",
       "\n",
       "    .dataframe thead th {\n",
       "        text-align: right;\n",
       "    }\n",
       "</style>\n",
       "<table border=\"1\" class=\"dataframe\">\n",
       "  <thead>\n",
       "    <tr style=\"text-align: right;\">\n",
       "      <th></th>\n",
       "      <th>age</th>\n",
       "      <th>workclass</th>\n",
       "      <th>fnlwgt</th>\n",
       "      <th>education</th>\n",
       "      <th>education-num</th>\n",
       "      <th>marital-status</th>\n",
       "      <th>occupation</th>\n",
       "      <th>relationship</th>\n",
       "      <th>race</th>\n",
       "      <th>sex</th>\n",
       "      <th>capital-gain</th>\n",
       "      <th>capital-loss</th>\n",
       "      <th>hours-per-week</th>\n",
       "      <th>native-country</th>\n",
       "      <th>salary</th>\n",
       "    </tr>\n",
       "  </thead>\n",
       "  <tbody>\n",
       "    <tr>\n",
       "      <th>0</th>\n",
       "      <td>39</td>\n",
       "      <td>State-gov</td>\n",
       "      <td>77516</td>\n",
       "      <td>Bachelors</td>\n",
       "      <td>13</td>\n",
       "      <td>Never-married</td>\n",
       "      <td>Adm-clerical</td>\n",
       "      <td>0</td>\n",
       "      <td>0</td>\n",
       "      <td>0</td>\n",
       "      <td>2174</td>\n",
       "      <td>0</td>\n",
       "      <td>40</td>\n",
       "      <td>United-States</td>\n",
       "      <td>-1</td>\n",
       "    </tr>\n",
       "    <tr>\n",
       "      <th>1</th>\n",
       "      <td>50</td>\n",
       "      <td>Self-emp-not-inc</td>\n",
       "      <td>83311</td>\n",
       "      <td>Bachelors</td>\n",
       "      <td>13</td>\n",
       "      <td>Married-civ-spouse</td>\n",
       "      <td>Exec-managerial</td>\n",
       "      <td>1</td>\n",
       "      <td>0</td>\n",
       "      <td>0</td>\n",
       "      <td>0</td>\n",
       "      <td>0</td>\n",
       "      <td>13</td>\n",
       "      <td>United-States</td>\n",
       "      <td>-1</td>\n",
       "    </tr>\n",
       "    <tr>\n",
       "      <th>2</th>\n",
       "      <td>38</td>\n",
       "      <td>Private</td>\n",
       "      <td>215646</td>\n",
       "      <td>HS-grad</td>\n",
       "      <td>9</td>\n",
       "      <td>Divorced</td>\n",
       "      <td>Handlers-cleaners</td>\n",
       "      <td>0</td>\n",
       "      <td>0</td>\n",
       "      <td>0</td>\n",
       "      <td>0</td>\n",
       "      <td>0</td>\n",
       "      <td>40</td>\n",
       "      <td>United-States</td>\n",
       "      <td>-1</td>\n",
       "    </tr>\n",
       "    <tr>\n",
       "      <th>3</th>\n",
       "      <td>53</td>\n",
       "      <td>Private</td>\n",
       "      <td>234721</td>\n",
       "      <td>11th</td>\n",
       "      <td>7</td>\n",
       "      <td>Married-civ-spouse</td>\n",
       "      <td>Handlers-cleaners</td>\n",
       "      <td>1</td>\n",
       "      <td>1</td>\n",
       "      <td>0</td>\n",
       "      <td>0</td>\n",
       "      <td>0</td>\n",
       "      <td>40</td>\n",
       "      <td>United-States</td>\n",
       "      <td>-1</td>\n",
       "    </tr>\n",
       "    <tr>\n",
       "      <th>4</th>\n",
       "      <td>28</td>\n",
       "      <td>Private</td>\n",
       "      <td>338409</td>\n",
       "      <td>Bachelors</td>\n",
       "      <td>13</td>\n",
       "      <td>Married-civ-spouse</td>\n",
       "      <td>Prof-specialty</td>\n",
       "      <td>2</td>\n",
       "      <td>1</td>\n",
       "      <td>1</td>\n",
       "      <td>0</td>\n",
       "      <td>0</td>\n",
       "      <td>40</td>\n",
       "      <td>Cuba</td>\n",
       "      <td>-1</td>\n",
       "    </tr>\n",
       "  </tbody>\n",
       "</table>\n",
       "</div>"
      ],
      "text/plain": [
       "   age          workclass  fnlwgt   education  education-num  \\\n",
       "0   39          State-gov   77516   Bachelors             13   \n",
       "1   50   Self-emp-not-inc   83311   Bachelors             13   \n",
       "2   38            Private  215646     HS-grad              9   \n",
       "3   53            Private  234721        11th              7   \n",
       "4   28            Private  338409   Bachelors             13   \n",
       "\n",
       "        marital-status          occupation  relationship  race  sex  \\\n",
       "0        Never-married        Adm-clerical             0     0    0   \n",
       "1   Married-civ-spouse     Exec-managerial             1     0    0   \n",
       "2             Divorced   Handlers-cleaners             0     0    0   \n",
       "3   Married-civ-spouse   Handlers-cleaners             1     1    0   \n",
       "4   Married-civ-spouse      Prof-specialty             2     1    1   \n",
       "\n",
       "   capital-gain  capital-loss  hours-per-week  native-country  salary  \n",
       "0          2174             0              40   United-States      -1  \n",
       "1             0             0              13   United-States      -1  \n",
       "2             0             0              40   United-States      -1  \n",
       "3             0             0              40   United-States      -1  \n",
       "4             0             0              40            Cuba      -1  "
      ]
     },
     "execution_count": 33,
     "metadata": {},
     "output_type": "execute_result"
    }
   ],
   "source": [
    "df.head()"
   ]
  },
  {
   "cell_type": "markdown",
   "id": "7f2974b7",
   "metadata": {},
   "source": [
    "['age','fnlwgt','education-num','relationship','race','sex','capital-gain','capital-loss','hours-per-week','salary']\n",
    "\n",
    "The above features are used for classification in the given dataset."
   ]
  },
  {
   "cell_type": "code",
   "execution_count": 34,
   "id": "7b4ff0fb",
   "metadata": {},
   "outputs": [],
   "source": [
    "column_names=['age','fnlwgt','education-num','relationship','race','sex','capital-gain','capital-loss','hours-per-week','salary']\n"
   ]
  },
  {
   "cell_type": "code",
   "execution_count": 35,
   "id": "8013269d",
   "metadata": {},
   "outputs": [
    {
     "data": {
      "text/plain": [
       "(32561, 10)"
      ]
     },
     "execution_count": 35,
     "metadata": {},
     "output_type": "execute_result"
    }
   ],
   "source": [
    "dF = df[column_names]\n",
    "dF.shape"
   ]
  },
  {
   "cell_type": "markdown",
   "id": "d8f5483e",
   "metadata": {},
   "source": [
    "### Implementation of Decision tree\n",
    "Dictionary datastructure is used to store the desicion tree. Information gain is used to determine the best possible \n",
    "splits in the data.\n",
    "\n",
    "In a data with N classes, the entropy is calculated as follows :\n",
    "$$ E = − \\sum \\limits _{i=1} ^{N} p_{i}log_{2}p_{i} $$\n",
    "where, $ p_{i} $  is the probability of randomly selecting an example in class i"
   ]
  },
  {
   "cell_type": "code",
   "execution_count": 36,
   "id": "39c57914",
   "metadata": {},
   "outputs": [],
   "source": [
    "#checks whether all the data falls into the same class or not\n",
    "def purity(data) :\n",
    "    pure=len(np.unique(data[:,-1]))\n",
    "    if pure == 1 :\n",
    "        return 1\n",
    "    return 0\n",
    "\n",
    "#Predicts the label of the data using majority count\n",
    "def label(data) :\n",
    "    summation= np.sum(data[:,-1])\n",
    "    if summation >= 0 :\n",
    "        return 1\n",
    "    else :\n",
    "        return -1\n",
    "\n",
    "#returns the entropy of the data\n",
    "def cal_Entropy(data):\n",
    "    label, labelcounts = np.unique(data[:, -1], return_counts = True)\n",
    "    probability = labelcounts / labelcounts.sum()\n",
    "    return sum(probability * -np.log2(probability))\n",
    "\n",
    "#returns the total entropy considering the split\n",
    "def total_entropy(data_below, data_above) :\n",
    "    lengthbelow=len(data_below)\n",
    "    lengthabove=len(data_above)\n",
    "    total= lengthbelow+lengthabove\n",
    "    probability_below=lengthbelow/total\n",
    "    probability_above=lengthabove/total\n",
    "    return  probability_below* cal_Entropy(data_below) + probability_above * cal_Entropy(data_above)\n",
    "\n",
    "\n",
    "#Divides the data according to the splitvalue of the feature\n",
    "def datasplit(data,splitcol,splitval) :\n",
    "    splitcolval = data[:, splitcol]\n",
    "    return data[splitcolval <= splitval], data[splitcolval > splitval]\n"
   ]
  },
  {
   "cell_type": "code",
   "execution_count": 37,
   "id": "ccc91cae",
   "metadata": {},
   "outputs": [],
   "source": [
    "#Finds the possible splits and their split values\n",
    "def get_possible_splits(data) :\n",
    "    possible_splits = {}\n",
    "    columns = data.shape[1]\n",
    "    #i is the column index, it iterates for every column other than the last one \n",
    "    for i in range(0,columns-1) :\n",
    "        vals = data[:, i]\n",
    "        unique_vals = np.unique(vals)\n",
    "        if len(unique_vals) == 1:\n",
    "            possible_splits[i] = unique_vals\n",
    "        else:\n",
    "            possible_splits[i] = [] #list because there are multiple values for which split is possible\n",
    "            \n",
    "            # j iterates over every unique value in the ith column\n",
    "            for j in range(len(unique_vals)):\n",
    "                if j != 0 :\n",
    "                    current_val = unique_vals[j]\n",
    "                    previous_val = unique_vals[j - 1]\n",
    "                    possible_splits[i].append((current_val + previous_val) / 2)\n",
    "    return possible_splits"
   ]
  },
  {
   "cell_type": "code",
   "execution_count": 38,
   "id": "3befe3b2",
   "metadata": {},
   "outputs": [],
   "source": [
    "# Finds the best split by comparing the change in entropy\n",
    "def find_best_split(data, possible_splits) :\n",
    "    overall_entropy = 9999\n",
    "    bestsplit_col = 0\n",
    "    bestsplit_val = 0\n",
    "    for split_col in possible_splits :\n",
    "        for split_val in possible_splits[split_col] :\n",
    "            data_below, data_above = datasplit(data, split_col, split_val)\n",
    "            current_overall_entropy = total_entropy(data_below, data_above)\n",
    "            if current_overall_entropy <= overall_entropy :\n",
    "                bestsplit_val=split_val\n",
    "                bestsplit_col=split_col\n",
    "                overall_entropy = current_overall_entropy\n",
    "                \n",
    "    return bestsplit_val, bestsplit_col"
   ]
  },
  {
   "cell_type": "code",
   "execution_count": 39,
   "id": "28816b9d",
   "metadata": {},
   "outputs": [],
   "source": [
    "#creates the decision tree and stores it in a dictionary\n",
    "#cd is the current depth\n",
    "\n",
    "def create_decisiontree(df,cd=0,maxdepth=5) :\n",
    "    if cd == 0 :\n",
    "        data=df.values\n",
    "    else :\n",
    "        data = df\n",
    "    if purity(data) or cd==maxdepth :\n",
    "        return label(data)\n",
    "    else :\n",
    "        cd=cd+1\n",
    "        possible_splits = get_possible_splits(data)\n",
    "        split_val, split_col = find_best_split(data, possible_splits)\n",
    "        data_below, data_above = datasplit(data, split_col, split_val)\n",
    "        if len(data_below) == 0 or len(data_above) == 0 :\n",
    "            return label(data)\n",
    "        else :\n",
    "            question = str(column_names[split_col]) + \" <= \" + str(split_val)\n",
    "            decision_sub_tree = {question: []}\n",
    "            no = create_decisiontree(data_above, cd, maxdepth)\n",
    "            yes = create_decisiontree(data_below, cd, maxdepth)\n",
    "            if yes == no:\n",
    "                decision_sub_tree = yes\n",
    "            else :\n",
    "                decision_sub_tree[question].append(yes)\n",
    "                decision_sub_tree[question].append(no)\n",
    "            return decision_sub_tree"
   ]
  },
  {
   "cell_type": "code",
   "execution_count": 40,
   "id": "9bc065d0",
   "metadata": {},
   "outputs": [],
   "source": [
    "#Used for classifying the data on a trained decision tree\n",
    "def classification(sample_data, decision_tree):\n",
    "    if not isinstance(decision_tree, dict):\n",
    "        return decision_tree\n",
    "    question = list(decision_tree.keys())[0]\n",
    "    feature, value = question.split(\" <= \")\n",
    "    if sample_data[feature] <= float(value):\n",
    "        ans = decision_tree[question][0]\n",
    "    else:\n",
    "        ans = decision_tree[question][1]\n",
    "    return classification(sample_data, ans)\n"
   ]
  },
  {
   "cell_type": "markdown",
   "id": "ec69e127",
   "metadata": {},
   "source": [
    "### Splitting the dataset into train and test set\n",
    "80% of the data is used for training and the remaining 20% is used for validation"
   ]
  },
  {
   "cell_type": "code",
   "execution_count": 41,
   "id": "1e833aa9",
   "metadata": {},
   "outputs": [
    {
     "data": {
      "text/plain": [
       "array([20901, 14170,  1776, ...,  6201, 27989, 25716])"
      ]
     },
     "execution_count": 41,
     "metadata": {},
     "output_type": "execute_result"
    }
   ],
   "source": [
    "shuffled_index = np.random.RandomState(seed=2021).permutation(np.arange(dF.shape[0]))\n",
    "shuffled_index"
   ]
  },
  {
   "cell_type": "code",
   "execution_count": 42,
   "id": "6478f953",
   "metadata": {},
   "outputs": [],
   "source": [
    "train_ratio = 0.8\n",
    "split_index = int(dF.shape[0]*(train_ratio))\n",
    "train_index, test_index = shuffled_index[:split_index], shuffled_index[split_index:]"
   ]
  },
  {
   "cell_type": "code",
   "execution_count": 43,
   "id": "7fff8a24",
   "metadata": {},
   "outputs": [],
   "source": [
    "dFTest = dF.loc[test_index]\n",
    "dFTrain = dF.loc[train_index]"
   ]
  },
  {
   "cell_type": "code",
   "execution_count": 44,
   "id": "57e7304e",
   "metadata": {},
   "outputs": [
    {
     "data": {
      "text/plain": [
       "(26048, 10)"
      ]
     },
     "execution_count": 44,
     "metadata": {},
     "output_type": "execute_result"
    }
   ],
   "source": [
    "dFTrain.shape"
   ]
  },
  {
   "cell_type": "code",
   "execution_count": 45,
   "id": "1706bc7e",
   "metadata": {},
   "outputs": [
    {
     "data": {
      "text/plain": [
       "(6513, 10)"
      ]
     },
     "execution_count": 45,
     "metadata": {},
     "output_type": "execute_result"
    }
   ],
   "source": [
    "dFTest.shape"
   ]
  },
  {
   "cell_type": "markdown",
   "id": "312ffec3",
   "metadata": {},
   "source": [
    "### Further splitting the trainset for cross validation"
   ]
  },
  {
   "cell_type": "code",
   "execution_count": 46,
   "id": "a73ac6bb",
   "metadata": {},
   "outputs": [
    {
     "data": {
      "text/plain": [
       "array([10160, 18385, 20320, ..., 17536,  6201, 25716])"
      ]
     },
     "execution_count": 46,
     "metadata": {},
     "output_type": "execute_result"
    }
   ],
   "source": [
    "shuffled_index = np.random.RandomState(seed=2021).permutation(np.arange(dFTrain.shape[0]))\n",
    "shuffled_index"
   ]
  },
  {
   "cell_type": "code",
   "execution_count": 47,
   "id": "becf7694",
   "metadata": {},
   "outputs": [],
   "source": [
    "val_ratio = 0.8\n",
    "split_index = int(dFTrain.shape[0]*(train_ratio))\n",
    "trains_index, val_index = shuffled_index[:split_index], shuffled_index[split_index:]"
   ]
  },
  {
   "cell_type": "code",
   "execution_count": 48,
   "id": "3aeea5ad",
   "metadata": {},
   "outputs": [],
   "source": [
    "dFVal = dF.loc[val_index]\n",
    "dFTrains = dF.loc[trains_index]"
   ]
  },
  {
   "cell_type": "code",
   "execution_count": 49,
   "id": "5d7f6a5b",
   "metadata": {},
   "outputs": [
    {
     "data": {
      "text/plain": [
       "(5210, 10)"
      ]
     },
     "execution_count": 49,
     "metadata": {},
     "output_type": "execute_result"
    }
   ],
   "source": [
    "dFVal.shape"
   ]
  },
  {
   "cell_type": "code",
   "execution_count": 50,
   "id": "34084d3e",
   "metadata": {},
   "outputs": [
    {
     "data": {
      "text/plain": [
       "(20838, 10)"
      ]
     },
     "execution_count": 50,
     "metadata": {},
     "output_type": "execute_result"
    }
   ],
   "source": [
    "dFTrains.shape"
   ]
  },
  {
   "cell_type": "markdown",
   "id": "a545ee48",
   "metadata": {},
   "source": [
    "### Finding the optimal value of maxdepth(Hyperparameter) using validation\n"
   ]
  },
  {
   "cell_type": "code",
   "execution_count": 51,
   "id": "d35cedfe",
   "metadata": {},
   "outputs": [
    {
     "name": "stdout",
     "output_type": "stream",
     "text": [
      " Validation accuracy at 1 depth 75.83493282149712\n",
      " Training accuracy at 1 depth 76.09175544677991\n",
      " Validation accuracy at 2 depth 76.10364683301344\n",
      " Training accuracy at 2 depth 76.28851137345235\n",
      " Validation accuracy at 3 depth 82.47600767754318\n",
      " Training accuracy at 3 depth 83.07899030617142\n",
      " Validation accuracy at 4 depth 83.8003838771593\n",
      " Training accuracy at 4 depth 84.64343986946923\n",
      " Validation accuracy at 5 depth 83.8003838771593\n",
      " Training accuracy at 5 depth 84.64823879451004\n",
      " Validation accuracy at 6 depth 83.95393474088291\n",
      " Training accuracy at 6 depth 84.94577214703907\n",
      " Validation accuracy at 7 depth 84.12667946257197\n",
      " Training accuracy at 7 depth 85.10413667338517\n"
     ]
    }
   ],
   "source": [
    "accuracy_val=[]\n",
    "accuracy_train=[]\n",
    "for i in range(1,8) :\n",
    "    decision_tree = create_decisiontree(dFTrains, maxdepth = i)\n",
    "    predictions_val = dFVal.apply(classification, axis = 1, args = (decision_tree,))\n",
    "    results_val = predictions_val== dFVal.iloc[:, -1]\n",
    "    predictions_train = dFTrains.apply(classification, axis = 1, args = (decision_tree,))\n",
    "    results_train = predictions_train== dFTrains.iloc[:, -1]\n",
    "    accuracy_vals=results_val.mean()*100\n",
    "    accuracy_trains=results_train.mean()*100\n",
    "    print(\" Validation accuracy at {} depth {}\".format(i,accuracy_vals))\n",
    "    print(\" Training accuracy at {} depth {}\".format(i,accuracy_trains))\n",
    "    accuracy_val.append(accuracy_vals)\n",
    "    accuracy_train.append(accuracy_trains)\n"
   ]
  },
  {
   "cell_type": "code",
   "execution_count": 52,
   "id": "597de376",
   "metadata": {},
   "outputs": [
    {
     "data": {
      "image/png": "[encoded data removed]",
      "text/plain": [
       "<Figure size 432x288 with 1 Axes>"
      ]
     },
     "metadata": {
      "needs_background": "light"
     },
     "output_type": "display_data"
    }
   ],
   "source": [
    "accuracy_val.insert(0,0) #for graph formatting\n",
    "accuracy_train.insert(0,0) #for graph formatting\n",
    "plt.plot(accuracy_val)\n",
    "plt.plot(accuracy_train)\n",
    "plt.xlim([0.8,7.5])\n",
    "plt.ylim([70,90])\n",
    "plt.xlabel(\"Depth of the tree\")\n",
    "plt.ylabel(\"Accuracy\")\n",
    "plt.legend(['Validation accuracy','Training accuracy'])\n",
    "plt.show()"
   ]
  },
  {
   "cell_type": "markdown",
   "id": "18e19dc5",
   "metadata": {},
   "source": [
    "From the above results, Maximum depth of the tree is chosen as 4.\n"
   ]
  },
  {
   "cell_type": "markdown",
   "id": "3fafd948",
   "metadata": {},
   "source": [
    "### Testing the model :"
   ]
  },
  {
   "cell_type": "code",
   "execution_count": 53,
   "id": "9df21923",
   "metadata": {},
   "outputs": [
    {
     "name": "stdout",
     "output_type": "stream",
     "text": [
      "Accuracy= 83.66%\n"
     ]
    }
   ],
   "source": [
    "decision_tree = create_decisiontree(dFTrains, maxdepth = 4)\n",
    "predictions = dFTest.apply(classification, axis = 1, args = (decision_tree,))\n",
    "results = predictions== dFTest.iloc[:, -1]\n",
    "accuracy=results.mean()*100\n",
    "print(\"Accuracy= {0:.2f}%\".format(accuracy))"
   ]
  }
 ],
 "metadata": {
  "kernelspec": {
   "display_name": "Python 3 (ipykernel)",
   "language": "python",
   "name": "python3"
  },
  "language_info": {
   "codemirror_mode": {
    "name": "ipython",
    "version": 3
   },
   "file_extension": ".py",
   "mimetype": "text/x-python",
   "name": "python",
   "nbconvert_exporter": "python",
   "pygments_lexer": "ipython3",
   "version": "3.8.8"
  }
 },
 "nbformat": 4,
 "nbformat_minor": 5
}
